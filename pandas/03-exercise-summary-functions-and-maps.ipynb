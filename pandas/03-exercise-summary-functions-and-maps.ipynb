{
 "cells": [
  {
   "cell_type": "markdown",
   "id": "09a542f4",
   "metadata": {
    "papermill": {
     "duration": 0.025396,
     "end_time": "2022-04-01T21:15:01.746703",
     "exception": false,
     "start_time": "2022-04-01T21:15:01.721307",
     "status": "completed"
    },
    "tags": []
   },
   "source": [
    "**This notebook is an exercise in the [Pandas](https://www.kaggle.com/learn/pandas) course.  You can reference the tutorial at [this link](https://www.kaggle.com/residentmario/summary-functions-and-maps).**\n",
    "\n",
    "---\n"
   ]
  },
  {
   "cell_type": "markdown",
   "id": "b9dc209b",
   "metadata": {
    "papermill": {
     "duration": 0.023134,
     "end_time": "2022-04-01T21:15:01.793384",
     "exception": false,
     "start_time": "2022-04-01T21:15:01.770250",
     "status": "completed"
    },
    "tags": []
   },
   "source": [
    "# Introduction\n",
    "\n",
    "Now you are ready to get a deeper understanding of your data.\n",
    "\n",
    "Run the following cell to load your data and some utility functions (including code to check your answers)."
   ]
  },
  {
   "cell_type": "code",
   "execution_count": 1,
   "id": "57f05313",
   "metadata": {
    "execution": {
     "iopub.execute_input": "2022-04-01T21:15:01.844867Z",
     "iopub.status.busy": "2022-04-01T21:15:01.843642Z",
     "iopub.status.idle": "2022-04-01T21:15:10.086584Z",
     "shell.execute_reply": "2022-04-01T21:15:10.087446Z",
     "shell.execute_reply.started": "2022-04-01T21:14:10.021505Z"
    },
    "papermill": {
     "duration": 8.271255,
     "end_time": "2022-04-01T21:15:10.087857",
     "exception": false,
     "start_time": "2022-04-01T21:15:01.816602",
     "status": "completed"
    },
    "tags": []
   },
   "outputs": [
    {
     "name": "stdout",
     "output_type": "stream",
     "text": [
      "Setup complete.\n"
     ]
    },
    {
     "data": {
      "text/html": [
       "<div>\n",
       "<style scoped>\n",
       "    .dataframe tbody tr th:only-of-type {\n",
       "        vertical-align: middle;\n",
       "    }\n",
       "\n",
       "    .dataframe tbody tr th {\n",
       "        vertical-align: top;\n",
       "    }\n",
       "\n",
       "    .dataframe thead th {\n",
       "        text-align: right;\n",
       "    }\n",
       "</style>\n",
       "<table border=\"1\" class=\"dataframe\">\n",
       "  <thead>\n",
       "    <tr style=\"text-align: right;\">\n",
       "      <th></th>\n",
       "      <th>country</th>\n",
       "      <th>description</th>\n",
       "      <th>designation</th>\n",
       "      <th>points</th>\n",
       "      <th>price</th>\n",
       "      <th>province</th>\n",
       "      <th>region_1</th>\n",
       "      <th>region_2</th>\n",
       "      <th>taster_name</th>\n",
       "      <th>taster_twitter_handle</th>\n",
       "      <th>title</th>\n",
       "      <th>variety</th>\n",
       "      <th>winery</th>\n",
       "    </tr>\n",
       "  </thead>\n",
       "  <tbody>\n",
       "    <tr>\n",
       "      <th>0</th>\n",
       "      <td>Italy</td>\n",
       "      <td>Aromas include tropical fruit, broom, brimston...</td>\n",
       "      <td>Vulkà Bianco</td>\n",
       "      <td>87</td>\n",
       "      <td>NaN</td>\n",
       "      <td>Sicily &amp; Sardinia</td>\n",
       "      <td>Etna</td>\n",
       "      <td>NaN</td>\n",
       "      <td>Kerin O’Keefe</td>\n",
       "      <td>@kerinokeefe</td>\n",
       "      <td>Nicosia 2013 Vulkà Bianco  (Etna)</td>\n",
       "      <td>White Blend</td>\n",
       "      <td>Nicosia</td>\n",
       "    </tr>\n",
       "    <tr>\n",
       "      <th>1</th>\n",
       "      <td>Portugal</td>\n",
       "      <td>This is ripe and fruity, a wine that is smooth...</td>\n",
       "      <td>Avidagos</td>\n",
       "      <td>87</td>\n",
       "      <td>15.0</td>\n",
       "      <td>Douro</td>\n",
       "      <td>NaN</td>\n",
       "      <td>NaN</td>\n",
       "      <td>Roger Voss</td>\n",
       "      <td>@vossroger</td>\n",
       "      <td>Quinta dos Avidagos 2011 Avidagos Red (Douro)</td>\n",
       "      <td>Portuguese Red</td>\n",
       "      <td>Quinta dos Avidagos</td>\n",
       "    </tr>\n",
       "    <tr>\n",
       "      <th>2</th>\n",
       "      <td>US</td>\n",
       "      <td>Tart and snappy, the flavors of lime flesh and...</td>\n",
       "      <td>NaN</td>\n",
       "      <td>87</td>\n",
       "      <td>14.0</td>\n",
       "      <td>Oregon</td>\n",
       "      <td>Willamette Valley</td>\n",
       "      <td>Willamette Valley</td>\n",
       "      <td>Paul Gregutt</td>\n",
       "      <td>@paulgwine</td>\n",
       "      <td>Rainstorm 2013 Pinot Gris (Willamette Valley)</td>\n",
       "      <td>Pinot Gris</td>\n",
       "      <td>Rainstorm</td>\n",
       "    </tr>\n",
       "    <tr>\n",
       "      <th>3</th>\n",
       "      <td>US</td>\n",
       "      <td>Pineapple rind, lemon pith and orange blossom ...</td>\n",
       "      <td>Reserve Late Harvest</td>\n",
       "      <td>87</td>\n",
       "      <td>13.0</td>\n",
       "      <td>Michigan</td>\n",
       "      <td>Lake Michigan Shore</td>\n",
       "      <td>NaN</td>\n",
       "      <td>Alexander Peartree</td>\n",
       "      <td>NaN</td>\n",
       "      <td>St. Julian 2013 Reserve Late Harvest Riesling ...</td>\n",
       "      <td>Riesling</td>\n",
       "      <td>St. Julian</td>\n",
       "    </tr>\n",
       "    <tr>\n",
       "      <th>4</th>\n",
       "      <td>US</td>\n",
       "      <td>Much like the regular bottling from 2012, this...</td>\n",
       "      <td>Vintner's Reserve Wild Child Block</td>\n",
       "      <td>87</td>\n",
       "      <td>65.0</td>\n",
       "      <td>Oregon</td>\n",
       "      <td>Willamette Valley</td>\n",
       "      <td>Willamette Valley</td>\n",
       "      <td>Paul Gregutt</td>\n",
       "      <td>@paulgwine</td>\n",
       "      <td>Sweet Cheeks 2012 Vintner's Reserve Wild Child...</td>\n",
       "      <td>Pinot Noir</td>\n",
       "      <td>Sweet Cheeks</td>\n",
       "    </tr>\n",
       "  </tbody>\n",
       "</table>\n",
       "</div>"
      ],
      "text/plain": [
       "    country                                        description  \\\n",
       "0     Italy  Aromas include tropical fruit, broom, brimston...   \n",
       "1  Portugal  This is ripe and fruity, a wine that is smooth...   \n",
       "2        US  Tart and snappy, the flavors of lime flesh and...   \n",
       "3        US  Pineapple rind, lemon pith and orange blossom ...   \n",
       "4        US  Much like the regular bottling from 2012, this...   \n",
       "\n",
       "                          designation  points  price           province  \\\n",
       "0                        Vulkà Bianco      87    NaN  Sicily & Sardinia   \n",
       "1                            Avidagos      87   15.0              Douro   \n",
       "2                                 NaN      87   14.0             Oregon   \n",
       "3                Reserve Late Harvest      87   13.0           Michigan   \n",
       "4  Vintner's Reserve Wild Child Block      87   65.0             Oregon   \n",
       "\n",
       "              region_1           region_2         taster_name  \\\n",
       "0                 Etna                NaN       Kerin O’Keefe   \n",
       "1                  NaN                NaN          Roger Voss   \n",
       "2    Willamette Valley  Willamette Valley        Paul Gregutt   \n",
       "3  Lake Michigan Shore                NaN  Alexander Peartree   \n",
       "4    Willamette Valley  Willamette Valley        Paul Gregutt   \n",
       "\n",
       "  taster_twitter_handle                                              title  \\\n",
       "0          @kerinokeefe                  Nicosia 2013 Vulkà Bianco  (Etna)   \n",
       "1            @vossroger      Quinta dos Avidagos 2011 Avidagos Red (Douro)   \n",
       "2           @paulgwine       Rainstorm 2013 Pinot Gris (Willamette Valley)   \n",
       "3                   NaN  St. Julian 2013 Reserve Late Harvest Riesling ...   \n",
       "4           @paulgwine   Sweet Cheeks 2012 Vintner's Reserve Wild Child...   \n",
       "\n",
       "          variety               winery  \n",
       "0     White Blend              Nicosia  \n",
       "1  Portuguese Red  Quinta dos Avidagos  \n",
       "2      Pinot Gris            Rainstorm  \n",
       "3        Riesling           St. Julian  \n",
       "4      Pinot Noir         Sweet Cheeks  "
      ]
     },
     "execution_count": 1,
     "metadata": {},
     "output_type": "execute_result"
    }
   ],
   "source": [
    "import pandas as pd\n",
    "pd.set_option(\"display.max_rows\", 5)\n",
    "reviews = pd.read_csv(\"../input/wine-reviews/winemag-data-130k-v2.csv\", index_col=0)\n",
    "\n",
    "from learntools.core import binder; binder.bind(globals())\n",
    "from learntools.pandas.summary_functions_and_maps import *\n",
    "print(\"Setup complete.\")\n",
    "\n",
    "reviews.head()"
   ]
  },
  {
   "cell_type": "markdown",
   "id": "e53d82c2",
   "metadata": {
    "papermill": {
     "duration": 0.026618,
     "end_time": "2022-04-01T21:15:10.141134",
     "exception": false,
     "start_time": "2022-04-01T21:15:10.114516",
     "status": "completed"
    },
    "tags": []
   },
   "source": [
    "# Exercises"
   ]
  },
  {
   "cell_type": "markdown",
   "id": "c3e38ea1",
   "metadata": {
    "papermill": {
     "duration": 0.026107,
     "end_time": "2022-04-01T21:15:10.193017",
     "exception": false,
     "start_time": "2022-04-01T21:15:10.166910",
     "status": "completed"
    },
    "tags": []
   },
   "source": [
    "## 1.\n",
    "\n",
    "What is the median of the `points` column in the `reviews` DataFrame?"
   ]
  },
  {
   "cell_type": "code",
   "execution_count": 2,
   "id": "9db7f2fd",
   "metadata": {
    "execution": {
     "iopub.execute_input": "2022-04-01T21:15:10.251174Z",
     "iopub.status.busy": "2022-04-01T21:15:10.250458Z",
     "iopub.status.idle": "2022-04-01T21:15:10.256157Z",
     "shell.execute_reply": "2022-04-01T21:15:10.256702Z",
     "shell.execute_reply.started": "2022-04-01T21:14:18.046349Z"
    },
    "papermill": {
     "duration": 0.037191,
     "end_time": "2022-04-01T21:15:10.256871",
     "exception": false,
     "start_time": "2022-04-01T21:15:10.219680",
     "status": "completed"
    },
    "tags": []
   },
   "outputs": [
    {
     "data": {
      "application/javascript": [
       "parent.postMessage({\"jupyterEvent\": \"custom.exercise_interaction\", \"data\": {\"outcomeType\": 1, \"valueTowardsCompletion\": 0.14285714285714285, \"interactionType\": 1, \"questionType\": 1, \"questionId\": \"1_MedianPoints\", \"learnToolsVersion\": \"0.3.4\", \"failureMessage\": \"\", \"exceptionClass\": \"\", \"trace\": \"\"}}, \"*\")"
      ],
      "text/plain": [
       "<IPython.core.display.Javascript object>"
      ]
     },
     "metadata": {},
     "output_type": "display_data"
    },
    {
     "data": {
      "text/markdown": [
       "<span style=\"color:#33cc33\">Correct</span>"
      ],
      "text/plain": [
       "Correct"
      ]
     },
     "metadata": {},
     "output_type": "display_data"
    }
   ],
   "source": [
    "median_points = reviews.points.median()\n",
    "\n",
    "# Check your answer\n",
    "q1.check()"
   ]
  },
  {
   "cell_type": "code",
   "execution_count": 3,
   "id": "bc78adfa",
   "metadata": {
    "execution": {
     "iopub.execute_input": "2022-04-01T21:15:10.315062Z",
     "iopub.status.busy": "2022-04-01T21:15:10.314383Z",
     "iopub.status.idle": "2022-04-01T21:15:10.316495Z",
     "shell.execute_reply": "2022-04-01T21:15:10.317063Z",
     "shell.execute_reply.started": "2022-04-01T21:14:18.058708Z"
    },
    "papermill": {
     "duration": 0.034005,
     "end_time": "2022-04-01T21:15:10.317243",
     "exception": false,
     "start_time": "2022-04-01T21:15:10.283238",
     "status": "completed"
    },
    "tags": []
   },
   "outputs": [],
   "source": [
    "#q1.hint()\n",
    "#q1.solution()"
   ]
  },
  {
   "cell_type": "markdown",
   "id": "1dcab660",
   "metadata": {
    "papermill": {
     "duration": 0.025131,
     "end_time": "2022-04-01T21:15:10.367849",
     "exception": false,
     "start_time": "2022-04-01T21:15:10.342718",
     "status": "completed"
    },
    "tags": []
   },
   "source": [
    "## 2. \n",
    "What countries are represented in the dataset? (Your answer should not include any duplicates.)"
   ]
  },
  {
   "cell_type": "code",
   "execution_count": 4,
   "id": "a54e00d0",
   "metadata": {
    "execution": {
     "iopub.execute_input": "2022-04-01T21:15:10.422428Z",
     "iopub.status.busy": "2022-04-01T21:15:10.421693Z",
     "iopub.status.idle": "2022-04-01T21:15:10.442621Z",
     "shell.execute_reply": "2022-04-01T21:15:10.443245Z",
     "shell.execute_reply.started": "2022-04-01T21:14:18.065853Z"
    },
    "papermill": {
     "duration": 0.050022,
     "end_time": "2022-04-01T21:15:10.443441",
     "exception": false,
     "start_time": "2022-04-01T21:15:10.393419",
     "status": "completed"
    },
    "tags": []
   },
   "outputs": [
    {
     "data": {
      "application/javascript": [
       "parent.postMessage({\"jupyterEvent\": \"custom.exercise_interaction\", \"data\": {\"outcomeType\": 1, \"valueTowardsCompletion\": 0.14285714285714285, \"interactionType\": 1, \"questionType\": 2, \"questionId\": \"2_UniqueCountries\", \"learnToolsVersion\": \"0.3.4\", \"failureMessage\": \"\", \"exceptionClass\": \"\", \"trace\": \"\"}}, \"*\")"
      ],
      "text/plain": [
       "<IPython.core.display.Javascript object>"
      ]
     },
     "metadata": {},
     "output_type": "display_data"
    },
    {
     "data": {
      "text/markdown": [
       "<span style=\"color:#33cc33\">Correct</span>"
      ],
      "text/plain": [
       "Correct"
      ]
     },
     "metadata": {},
     "output_type": "display_data"
    }
   ],
   "source": [
    "countries = reviews.country.unique()\n",
    "\n",
    "# Check your answer\n",
    "q2.check()"
   ]
  },
  {
   "cell_type": "code",
   "execution_count": 5,
   "id": "3b5a2ac0",
   "metadata": {
    "execution": {
     "iopub.execute_input": "2022-04-01T21:15:10.505908Z",
     "iopub.status.busy": "2022-04-01T21:15:10.505243Z",
     "iopub.status.idle": "2022-04-01T21:15:10.507425Z",
     "shell.execute_reply": "2022-04-01T21:15:10.507955Z",
     "shell.execute_reply.started": "2022-04-01T21:14:18.094110Z"
    },
    "papermill": {
     "duration": 0.035576,
     "end_time": "2022-04-01T21:15:10.508175",
     "exception": false,
     "start_time": "2022-04-01T21:15:10.472599",
     "status": "completed"
    },
    "tags": []
   },
   "outputs": [],
   "source": [
    "#q2.hint()\n",
    "#q2.solution()"
   ]
  },
  {
   "cell_type": "markdown",
   "id": "c812caf1",
   "metadata": {
    "papermill": {
     "duration": 0.027949,
     "end_time": "2022-04-01T21:15:10.564892",
     "exception": false,
     "start_time": "2022-04-01T21:15:10.536943",
     "status": "completed"
    },
    "tags": []
   },
   "source": [
    "## 3.\n",
    "How often does each country appear in the dataset? Create a Series `reviews_per_country` mapping countries to the count of reviews of wines from that country."
   ]
  },
  {
   "cell_type": "code",
   "execution_count": 6,
   "id": "8f673664",
   "metadata": {
    "execution": {
     "iopub.execute_input": "2022-04-01T21:15:10.626440Z",
     "iopub.status.busy": "2022-04-01T21:15:10.625651Z",
     "iopub.status.idle": "2022-04-01T21:15:10.653329Z",
     "shell.execute_reply": "2022-04-01T21:15:10.652536Z",
     "shell.execute_reply.started": "2022-04-01T21:14:18.101692Z"
    },
    "papermill": {
     "duration": 0.058731,
     "end_time": "2022-04-01T21:15:10.653486",
     "exception": false,
     "start_time": "2022-04-01T21:15:10.594755",
     "status": "completed"
    },
    "tags": []
   },
   "outputs": [
    {
     "data": {
      "application/javascript": [
       "parent.postMessage({\"jupyterEvent\": \"custom.exercise_interaction\", \"data\": {\"outcomeType\": 1, \"valueTowardsCompletion\": 0.14285714285714285, \"interactionType\": 1, \"questionType\": 1, \"questionId\": \"3_ReviewsPerCountry\", \"learnToolsVersion\": \"0.3.4\", \"failureMessage\": \"\", \"exceptionClass\": \"\", \"trace\": \"\"}}, \"*\")"
      ],
      "text/plain": [
       "<IPython.core.display.Javascript object>"
      ]
     },
     "metadata": {},
     "output_type": "display_data"
    },
    {
     "data": {
      "text/markdown": [
       "<span style=\"color:#33cc33\">Correct</span>"
      ],
      "text/plain": [
       "Correct"
      ]
     },
     "metadata": {},
     "output_type": "display_data"
    }
   ],
   "source": [
    "reviews_per_country = reviews.country.value_counts()\n",
    "\n",
    "# Check your answer\n",
    "q3.check()"
   ]
  },
  {
   "cell_type": "code",
   "execution_count": 7,
   "id": "36f4ca0b",
   "metadata": {
    "execution": {
     "iopub.execute_input": "2022-04-01T21:15:10.718051Z",
     "iopub.status.busy": "2022-04-01T21:15:10.716926Z",
     "iopub.status.idle": "2022-04-01T21:15:10.720930Z",
     "shell.execute_reply": "2022-04-01T21:15:10.720390Z",
     "shell.execute_reply.started": "2022-04-01T21:14:18.134027Z"
    },
    "papermill": {
     "duration": 0.037392,
     "end_time": "2022-04-01T21:15:10.721106",
     "exception": false,
     "start_time": "2022-04-01T21:15:10.683714",
     "status": "completed"
    },
    "tags": []
   },
   "outputs": [],
   "source": [
    "#q3.hint()\n",
    "#q3.solution()"
   ]
  },
  {
   "cell_type": "markdown",
   "id": "ff33590e",
   "metadata": {
    "papermill": {
     "duration": 0.029739,
     "end_time": "2022-04-01T21:15:10.780432",
     "exception": false,
     "start_time": "2022-04-01T21:15:10.750693",
     "status": "completed"
    },
    "tags": []
   },
   "source": [
    "## 4.\n",
    "Create variable `centered_price` containing a version of the `price` column with the mean price subtracted.\n",
    "\n",
    "(Note: this 'centering' transformation is a common preprocessing step before applying various machine learning algorithms.) "
   ]
  },
  {
   "cell_type": "code",
   "execution_count": 8,
   "id": "4521e1be",
   "metadata": {
    "execution": {
     "iopub.execute_input": "2022-04-01T21:15:10.848320Z",
     "iopub.status.busy": "2022-04-01T21:15:10.847169Z",
     "iopub.status.idle": "2022-04-01T21:15:10.853082Z",
     "shell.execute_reply": "2022-04-01T21:15:10.853639Z",
     "shell.execute_reply.started": "2022-04-01T21:14:18.142793Z"
    },
    "papermill": {
     "duration": 0.043532,
     "end_time": "2022-04-01T21:15:10.853810",
     "exception": false,
     "start_time": "2022-04-01T21:15:10.810278",
     "status": "completed"
    },
    "tags": []
   },
   "outputs": [
    {
     "data": {
      "application/javascript": [
       "parent.postMessage({\"jupyterEvent\": \"custom.exercise_interaction\", \"data\": {\"outcomeType\": 1, \"valueTowardsCompletion\": 0.14285714285714285, \"interactionType\": 1, \"questionType\": 1, \"questionId\": \"4_CenteredPrice\", \"learnToolsVersion\": \"0.3.4\", \"failureMessage\": \"\", \"exceptionClass\": \"\", \"trace\": \"\"}}, \"*\")"
      ],
      "text/plain": [
       "<IPython.core.display.Javascript object>"
      ]
     },
     "metadata": {},
     "output_type": "display_data"
    },
    {
     "data": {
      "text/markdown": [
       "<span style=\"color:#33cc33\">Correct</span>"
      ],
      "text/plain": [
       "Correct"
      ]
     },
     "metadata": {},
     "output_type": "display_data"
    }
   ],
   "source": [
    "centered_price = reviews.price - reviews.price.mean()\n",
    "\n",
    "# Check your answer\n",
    "q4.check()"
   ]
  },
  {
   "cell_type": "code",
   "execution_count": 9,
   "id": "feb48191",
   "metadata": {
    "execution": {
     "iopub.execute_input": "2022-04-01T21:15:10.920238Z",
     "iopub.status.busy": "2022-04-01T21:15:10.919200Z",
     "iopub.status.idle": "2022-04-01T21:15:10.922837Z",
     "shell.execute_reply": "2022-04-01T21:15:10.923412Z",
     "shell.execute_reply.started": "2022-04-01T21:14:18.158183Z"
    },
    "papermill": {
     "duration": 0.038914,
     "end_time": "2022-04-01T21:15:10.923602",
     "exception": false,
     "start_time": "2022-04-01T21:15:10.884688",
     "status": "completed"
    },
    "tags": []
   },
   "outputs": [],
   "source": [
    "#q4.hint()\n",
    "#q4.solution()"
   ]
  },
  {
   "cell_type": "markdown",
   "id": "34fbfb58",
   "metadata": {
    "papermill": {
     "duration": 0.032506,
     "end_time": "2022-04-01T21:15:10.988441",
     "exception": false,
     "start_time": "2022-04-01T21:15:10.955935",
     "status": "completed"
    },
    "tags": []
   },
   "source": [
    "## 5.\n",
    "I'm an economical wine buyer. Which wine is the \"best bargain\"? Create a variable `bargain_wine` with the title of the wine with the highest points-to-price ratio in the dataset."
   ]
  },
  {
   "cell_type": "code",
   "execution_count": 10,
   "id": "aad70d86",
   "metadata": {
    "execution": {
     "iopub.execute_input": "2022-04-01T21:15:11.054533Z",
     "iopub.status.busy": "2022-04-01T21:15:11.053475Z",
     "iopub.status.idle": "2022-04-01T21:15:11.067276Z",
     "shell.execute_reply": "2022-04-01T21:15:11.067750Z",
     "shell.execute_reply.started": "2022-04-01T21:14:18.163696Z"
    },
    "papermill": {
     "duration": 0.048205,
     "end_time": "2022-04-01T21:15:11.067983",
     "exception": false,
     "start_time": "2022-04-01T21:15:11.019778",
     "status": "completed"
    },
    "tags": []
   },
   "outputs": [
    {
     "data": {
      "application/javascript": [
       "parent.postMessage({\"jupyterEvent\": \"custom.exercise_interaction\", \"data\": {\"outcomeType\": 1, \"valueTowardsCompletion\": 0.14285714285714285, \"interactionType\": 1, \"questionType\": 2, \"questionId\": \"5_BargainWine\", \"learnToolsVersion\": \"0.3.4\", \"failureMessage\": \"\", \"exceptionClass\": \"\", \"trace\": \"\"}}, \"*\")"
      ],
      "text/plain": [
       "<IPython.core.display.Javascript object>"
      ]
     },
     "metadata": {},
     "output_type": "display_data"
    },
    {
     "data": {
      "text/markdown": [
       "<span style=\"color:#33cc33\">Correct</span>"
      ],
      "text/plain": [
       "Correct"
      ]
     },
     "metadata": {},
     "output_type": "display_data"
    }
   ],
   "source": [
    "bargain_index = (reviews.points / reviews.price).idxmax()\n",
    "bargain_wine = reviews.loc[bargain_index, 'title']\n",
    "# Check your answer\n",
    "q5.check()"
   ]
  },
  {
   "cell_type": "code",
   "execution_count": 11,
   "id": "18c37d1e",
   "metadata": {
    "execution": {
     "iopub.execute_input": "2022-04-01T21:15:11.137168Z",
     "iopub.status.busy": "2022-04-01T21:15:11.136400Z",
     "iopub.status.idle": "2022-04-01T21:15:11.140480Z",
     "shell.execute_reply": "2022-04-01T21:15:11.139758Z",
     "shell.execute_reply.started": "2022-04-01T21:14:18.182248Z"
    },
    "papermill": {
     "duration": 0.039439,
     "end_time": "2022-04-01T21:15:11.140626",
     "exception": false,
     "start_time": "2022-04-01T21:15:11.101187",
     "status": "completed"
    },
    "tags": []
   },
   "outputs": [],
   "source": [
    "#q5.hint()\n",
    "#q5.solution()"
   ]
  },
  {
   "cell_type": "markdown",
   "id": "103ccbce",
   "metadata": {
    "papermill": {
     "duration": 0.032214,
     "end_time": "2022-04-01T21:15:11.207312",
     "exception": false,
     "start_time": "2022-04-01T21:15:11.175098",
     "status": "completed"
    },
    "tags": []
   },
   "source": [
    "## 6.\n",
    "There are only so many words you can use when describing a bottle of wine. Is a wine more likely to be \"tropical\" or \"fruity\"? Create a Series `descriptor_counts` counting how many times each of these two words appears in the `description` column in the dataset. (For simplicity, let's ignore the capitalized versions of these words.)"
   ]
  },
  {
   "cell_type": "code",
   "execution_count": 12,
   "id": "bbff6aae",
   "metadata": {
    "execution": {
     "iopub.execute_input": "2022-04-01T21:15:11.280453Z",
     "iopub.status.busy": "2022-04-01T21:15:11.279490Z",
     "iopub.status.idle": "2022-04-01T21:15:11.437693Z",
     "shell.execute_reply": "2022-04-01T21:15:11.437142Z",
     "shell.execute_reply.started": "2022-04-01T21:14:18.187109Z"
    },
    "papermill": {
     "duration": 0.196503,
     "end_time": "2022-04-01T21:15:11.437926",
     "exception": false,
     "start_time": "2022-04-01T21:15:11.241423",
     "status": "completed"
    },
    "tags": []
   },
   "outputs": [
    {
     "data": {
      "application/javascript": [
       "parent.postMessage({\"jupyterEvent\": \"custom.exercise_interaction\", \"data\": {\"outcomeType\": 1, \"valueTowardsCompletion\": 0.14285714285714285, \"interactionType\": 1, \"questionType\": 1, \"questionId\": \"6_DescriptorCounts\", \"learnToolsVersion\": \"0.3.4\", \"failureMessage\": \"\", \"exceptionClass\": \"\", \"trace\": \"\"}}, \"*\")"
      ],
      "text/plain": [
       "<IPython.core.display.Javascript object>"
      ]
     },
     "metadata": {},
     "output_type": "display_data"
    },
    {
     "data": {
      "text/markdown": [
       "<span style=\"color:#33cc33\">Correct</span>"
      ],
      "text/plain": [
       "Correct"
      ]
     },
     "metadata": {},
     "output_type": "display_data"
    }
   ],
   "source": [
    "tropical=reviews.description.map(lambda d: \"tropical\" in d).sum()\n",
    "fruity=reviews.description.map(lambda d: \"fruity\" in d).sum()\n",
    "descriptor_counts = pd.Series([tropical, fruity], index=['tropical', 'fruity'])\n",
    "\n",
    "# Check your answer\n",
    "q6.check()"
   ]
  },
  {
   "cell_type": "code",
   "execution_count": 13,
   "id": "47b4ac1d",
   "metadata": {
    "execution": {
     "iopub.execute_input": "2022-04-01T21:15:11.510840Z",
     "iopub.status.busy": "2022-04-01T21:15:11.510069Z",
     "iopub.status.idle": "2022-04-01T21:15:11.514117Z",
     "shell.execute_reply": "2022-04-01T21:15:11.513498Z",
     "shell.execute_reply.started": "2022-04-01T21:14:18.347814Z"
    },
    "papermill": {
     "duration": 0.042217,
     "end_time": "2022-04-01T21:15:11.514270",
     "exception": false,
     "start_time": "2022-04-01T21:15:11.472053",
     "status": "completed"
    },
    "tags": []
   },
   "outputs": [],
   "source": [
    "#q6.hint()\n",
    "#q6.solution()"
   ]
  },
  {
   "cell_type": "markdown",
   "id": "6230e43c",
   "metadata": {
    "papermill": {
     "duration": 0.033945,
     "end_time": "2022-04-01T21:15:11.583615",
     "exception": false,
     "start_time": "2022-04-01T21:15:11.549670",
     "status": "completed"
    },
    "tags": []
   },
   "source": [
    "## 7.\n",
    "We'd like to host these wine reviews on our website, but a rating system ranging from 80 to 100 points is too hard to understand - we'd like to translate them into simple star ratings. A score of 95 or higher counts as 3 stars, a score of at least 85 but less than 95 is 2 stars. Any other score is 1 star.\n",
    "\n",
    "Also, the Canadian Vintners Association bought a lot of ads on the site, so any wines from Canada should automatically get 3 stars, regardless of points.\n",
    "\n",
    "Create a series `star_ratings` with the number of stars corresponding to each review in the dataset."
   ]
  },
  {
   "cell_type": "code",
   "execution_count": 14,
   "id": "937b4a82",
   "metadata": {
    "execution": {
     "iopub.execute_input": "2022-04-01T21:15:11.677165Z",
     "iopub.status.busy": "2022-04-01T21:15:11.671483Z",
     "iopub.status.idle": "2022-04-01T21:15:11.766892Z",
     "shell.execute_reply": "2022-04-01T21:15:11.767412Z",
     "shell.execute_reply.started": "2022-04-01T21:14:18.354434Z"
    },
    "papermill": {
     "duration": 0.144699,
     "end_time": "2022-04-01T21:15:11.767594",
     "exception": false,
     "start_time": "2022-04-01T21:15:11.622895",
     "status": "completed"
    },
    "tags": []
   },
   "outputs": [
    {
     "data": {
      "application/javascript": [
       "parent.postMessage({\"jupyterEvent\": \"custom.exercise_interaction\", \"data\": {\"outcomeType\": 1, \"valueTowardsCompletion\": 0.14285714285714285, \"interactionType\": 1, \"questionType\": 1, \"questionId\": \"7_StarRatings\", \"learnToolsVersion\": \"0.3.4\", \"failureMessage\": \"\", \"exceptionClass\": \"\", \"trace\": \"\"}}, \"*\")"
      ],
      "text/plain": [
       "<IPython.core.display.Javascript object>"
      ]
     },
     "metadata": {},
     "output_type": "display_data"
    },
    {
     "data": {
      "text/markdown": [
       "<span style=\"color:#33cc33\">Correct</span>"
      ],
      "text/plain": [
       "Correct"
      ]
     },
     "metadata": {},
     "output_type": "display_data"
    }
   ],
   "source": [
    "star_ratings = reviews.points.map(lambda p: 3 if (p >= 95) else 2 if (p>= 85) else 1)\n",
    "\n",
    "# Check your answer\n",
    "q7.check()"
   ]
  },
  {
   "cell_type": "code",
   "execution_count": 15,
   "id": "e0e77e74",
   "metadata": {
    "execution": {
     "iopub.execute_input": "2022-04-01T21:15:11.842696Z",
     "iopub.status.busy": "2022-04-01T21:15:11.840835Z",
     "iopub.status.idle": "2022-04-01T21:15:11.844410Z",
     "shell.execute_reply": "2022-04-01T21:15:11.844976Z",
     "shell.execute_reply.started": "2022-04-01T21:14:18.448747Z"
    },
    "papermill": {
     "duration": 0.042929,
     "end_time": "2022-04-01T21:15:11.845147",
     "exception": false,
     "start_time": "2022-04-01T21:15:11.802218",
     "status": "completed"
    },
    "tags": []
   },
   "outputs": [],
   "source": [
    "#q7.hint()\n",
    "#q7.solution()"
   ]
  },
  {
   "cell_type": "markdown",
   "id": "f3e96731",
   "metadata": {
    "papermill": {
     "duration": 0.034046,
     "end_time": "2022-04-01T21:15:11.915184",
     "exception": false,
     "start_time": "2022-04-01T21:15:11.881138",
     "status": "completed"
    },
    "tags": []
   },
   "source": [
    "# Keep going\n",
    "Continue to **[grouping and sorting](https://www.kaggle.com/residentmario/grouping-and-sorting)**."
   ]
  },
  {
   "cell_type": "markdown",
   "id": "f25a28a2",
   "metadata": {
    "papermill": {
     "duration": 0.035599,
     "end_time": "2022-04-01T21:15:11.987946",
     "exception": false,
     "start_time": "2022-04-01T21:15:11.952347",
     "status": "completed"
    },
    "tags": []
   },
   "source": [
    "---\n",
    "\n",
    "\n",
    "\n",
    "\n",
    "*Have questions or comments? Visit the [course discussion forum](https://www.kaggle.com/learn/pandas/discussion) to chat with other learners.*"
   ]
  }
 ],
 "metadata": {
  "kernelspec": {
   "display_name": "Python 3",
   "language": "python",
   "name": "python3"
  },
  "language_info": {
   "codemirror_mode": {
    "name": "ipython",
    "version": 3
   },
   "file_extension": ".py",
   "mimetype": "text/x-python",
   "name": "python",
   "nbconvert_exporter": "python",
   "pygments_lexer": "ipython3",
   "version": "3.7.12"
  },
  "papermill": {
   "default_parameters": {},
   "duration": 22.020723,
   "end_time": "2022-04-01T21:15:12.735543",
   "environment_variables": {},
   "exception": null,
   "input_path": "__notebook__.ipynb",
   "output_path": "__notebook__.ipynb",
   "parameters": {},
   "start_time": "2022-04-01T21:14:50.714820",
   "version": "2.3.3"
  }
 },
 "nbformat": 4,
 "nbformat_minor": 5
}
