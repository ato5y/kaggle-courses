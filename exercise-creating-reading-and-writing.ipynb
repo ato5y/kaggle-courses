{
 "cells": [
  {
   "cell_type": "markdown",
   "id": "cc32da75",
   "metadata": {
    "papermill": {
     "duration": 0.019798,
     "end_time": "2022-04-01T20:44:38.115520",
     "exception": false,
     "start_time": "2022-04-01T20:44:38.095722",
     "status": "completed"
    },
    "tags": []
   },
   "source": [
    "**This notebook is an exercise in the [Pandas](https://www.kaggle.com/learn/pandas) course.  You can reference the tutorial at [this link](https://www.kaggle.com/residentmario/creating-reading-and-writing).**\n",
    "\n",
    "---\n"
   ]
  },
  {
   "cell_type": "markdown",
   "id": "1c7add52",
   "metadata": {
    "papermill": {
     "duration": 0.01895,
     "end_time": "2022-04-01T20:44:38.156347",
     "exception": false,
     "start_time": "2022-04-01T20:44:38.137397",
     "status": "completed"
    },
    "tags": []
   },
   "source": [
    "# Introduction\n",
    "\n",
    "The first step in most data analytics projects is reading the data file. In this exercise, you'll create Series and DataFrame objects, both by hand and by reading data files.\n",
    "\n",
    "Run the code cell below to load libraries you will need (including code to check your answers)."
   ]
  },
  {
   "cell_type": "code",
   "execution_count": 1,
   "id": "fa7ba647",
   "metadata": {
    "execution": {
     "iopub.execute_input": "2022-04-01T20:44:38.218707Z",
     "iopub.status.busy": "2022-04-01T20:44:38.217686Z",
     "iopub.status.idle": "2022-04-01T20:44:39.687467Z",
     "shell.execute_reply": "2022-04-01T20:44:39.688013Z",
     "shell.execute_reply.started": "2022-04-01T20:38:21.444164Z"
    },
    "papermill": {
     "duration": 1.506555,
     "end_time": "2022-04-01T20:44:39.688294",
     "exception": false,
     "start_time": "2022-04-01T20:44:38.181739",
     "status": "completed"
    },
    "tags": []
   },
   "outputs": [
    {
     "name": "stdout",
     "output_type": "stream",
     "text": [
      "Setup complete.\n"
     ]
    }
   ],
   "source": [
    "import pandas as pd\n",
    "pd.set_option('max_rows', 5)\n",
    "from learntools.core import binder; binder.bind(globals())\n",
    "from learntools.pandas.creating_reading_and_writing import *\n",
    "print(\"Setup complete.\")"
   ]
  },
  {
   "cell_type": "markdown",
   "id": "9bc34a30",
   "metadata": {
    "papermill": {
     "duration": 0.019016,
     "end_time": "2022-04-01T20:44:39.727095",
     "exception": false,
     "start_time": "2022-04-01T20:44:39.708079",
     "status": "completed"
    },
    "tags": []
   },
   "source": [
    "# Exercises"
   ]
  },
  {
   "cell_type": "markdown",
   "id": "0529b229",
   "metadata": {
    "papermill": {
     "duration": 0.019076,
     "end_time": "2022-04-01T20:44:39.765349",
     "exception": false,
     "start_time": "2022-04-01T20:44:39.746273",
     "status": "completed"
    },
    "tags": []
   },
   "source": [
    "## 1.\n",
    "\n",
    "In the cell below, create a DataFrame `fruits` that looks like this:\n",
    "\n",
    "![](https://i.imgur.com/Ax3pp2A.png)"
   ]
  },
  {
   "cell_type": "code",
   "execution_count": 2,
   "id": "2334962b",
   "metadata": {
    "execution": {
     "iopub.execute_input": "2022-04-01T20:44:39.808213Z",
     "iopub.status.busy": "2022-04-01T20:44:39.805649Z",
     "iopub.status.idle": "2022-04-01T20:44:39.825157Z",
     "shell.execute_reply": "2022-04-01T20:44:39.824673Z",
     "shell.execute_reply.started": "2022-04-01T20:38:23.081090Z"
    },
    "papermill": {
     "duration": 0.040983,
     "end_time": "2022-04-01T20:44:39.825313",
     "exception": false,
     "start_time": "2022-04-01T20:44:39.784330",
     "status": "completed"
    },
    "tags": []
   },
   "outputs": [
    {
     "data": {
      "application/javascript": [
       "parent.postMessage({\"jupyterEvent\": \"custom.exercise_interaction\", \"data\": {\"outcomeType\": 1, \"valueTowardsCompletion\": 0.16666666666666666, \"interactionType\": 1, \"questionType\": 1, \"questionId\": \"1_FruitDfCreation\", \"learnToolsVersion\": \"0.3.4\", \"failureMessage\": \"\", \"exceptionClass\": \"\", \"trace\": \"\"}}, \"*\")"
      ],
      "text/plain": [
       "<IPython.core.display.Javascript object>"
      ]
     },
     "metadata": {},
     "output_type": "display_data"
    },
    {
     "data": {
      "text/markdown": [
       "<span style=\"color:#33cc33\">Correct</span>"
      ],
      "text/plain": [
       "Correct"
      ]
     },
     "metadata": {},
     "output_type": "display_data"
    },
    {
     "data": {
      "text/html": [
       "<div>\n",
       "<style scoped>\n",
       "    .dataframe tbody tr th:only-of-type {\n",
       "        vertical-align: middle;\n",
       "    }\n",
       "\n",
       "    .dataframe tbody tr th {\n",
       "        vertical-align: top;\n",
       "    }\n",
       "\n",
       "    .dataframe thead th {\n",
       "        text-align: right;\n",
       "    }\n",
       "</style>\n",
       "<table border=\"1\" class=\"dataframe\">\n",
       "  <thead>\n",
       "    <tr style=\"text-align: right;\">\n",
       "      <th></th>\n",
       "      <th>Apples</th>\n",
       "      <th>Bananas</th>\n",
       "    </tr>\n",
       "  </thead>\n",
       "  <tbody>\n",
       "    <tr>\n",
       "      <th>0</th>\n",
       "      <td>30</td>\n",
       "      <td>21</td>\n",
       "    </tr>\n",
       "  </tbody>\n",
       "</table>\n",
       "</div>"
      ],
      "text/plain": [
       "   Apples  Bananas\n",
       "0      30       21"
      ]
     },
     "execution_count": 2,
     "metadata": {},
     "output_type": "execute_result"
    }
   ],
   "source": [
    "# Your code goes here. Create a dataframe matching the above diagram and assign it to the variable fruits.\n",
    "data = { 'Apples': [ 30], 'Bananas': [21] } \n",
    "fruits = pd.DataFrame(data)\n",
    "\n",
    "# Check your answer\n",
    "q1.check()\n",
    "fruits"
   ]
  },
  {
   "cell_type": "code",
   "execution_count": 3,
   "id": "343633d2",
   "metadata": {
    "execution": {
     "iopub.execute_input": "2022-04-01T20:44:39.871646Z",
     "iopub.status.busy": "2022-04-01T20:44:39.870775Z",
     "iopub.status.idle": "2022-04-01T20:44:39.873435Z",
     "shell.execute_reply": "2022-04-01T20:44:39.872872Z",
     "shell.execute_reply.started": "2022-04-01T20:38:23.103614Z"
    },
    "papermill": {
     "duration": 0.026845,
     "end_time": "2022-04-01T20:44:39.873563",
     "exception": false,
     "start_time": "2022-04-01T20:44:39.846718",
     "status": "completed"
    },
    "tags": []
   },
   "outputs": [],
   "source": [
    "#q1.hint()\n",
    "#q1.solution()"
   ]
  },
  {
   "cell_type": "markdown",
   "id": "4950f46a",
   "metadata": {
    "papermill": {
     "duration": 0.020049,
     "end_time": "2022-04-01T20:44:39.913931",
     "exception": false,
     "start_time": "2022-04-01T20:44:39.893882",
     "status": "completed"
    },
    "tags": []
   },
   "source": [
    "## 2.\n",
    "\n",
    "Create a dataframe `fruit_sales` that matches the diagram below:\n",
    "\n",
    "![](https://i.imgur.com/CHPn7ZF.png)"
   ]
  },
  {
   "cell_type": "code",
   "execution_count": 4,
   "id": "086fbe23",
   "metadata": {
    "execution": {
     "iopub.execute_input": "2022-04-01T20:44:39.963485Z",
     "iopub.status.busy": "2022-04-01T20:44:39.962534Z",
     "iopub.status.idle": "2022-04-01T20:44:39.972233Z",
     "shell.execute_reply": "2022-04-01T20:44:39.971698Z",
     "shell.execute_reply.started": "2022-04-01T20:38:23.110616Z"
    },
    "papermill": {
     "duration": 0.037391,
     "end_time": "2022-04-01T20:44:39.972373",
     "exception": false,
     "start_time": "2022-04-01T20:44:39.934982",
     "status": "completed"
    },
    "tags": []
   },
   "outputs": [
    {
     "data": {
      "application/javascript": [
       "parent.postMessage({\"jupyterEvent\": \"custom.exercise_interaction\", \"data\": {\"outcomeType\": 1, \"valueTowardsCompletion\": 0.16666666666666666, \"interactionType\": 1, \"questionType\": 1, \"questionId\": \"2_FruitSalesDfCreation\", \"learnToolsVersion\": \"0.3.4\", \"failureMessage\": \"\", \"exceptionClass\": \"\", \"trace\": \"\"}}, \"*\")"
      ],
      "text/plain": [
       "<IPython.core.display.Javascript object>"
      ]
     },
     "metadata": {},
     "output_type": "display_data"
    },
    {
     "data": {
      "text/markdown": [
       "<span style=\"color:#33cc33\">Correct</span>"
      ],
      "text/plain": [
       "Correct"
      ]
     },
     "metadata": {},
     "output_type": "display_data"
    },
    {
     "data": {
      "text/html": [
       "<div>\n",
       "<style scoped>\n",
       "    .dataframe tbody tr th:only-of-type {\n",
       "        vertical-align: middle;\n",
       "    }\n",
       "\n",
       "    .dataframe tbody tr th {\n",
       "        vertical-align: top;\n",
       "    }\n",
       "\n",
       "    .dataframe thead th {\n",
       "        text-align: right;\n",
       "    }\n",
       "</style>\n",
       "<table border=\"1\" class=\"dataframe\">\n",
       "  <thead>\n",
       "    <tr style=\"text-align: right;\">\n",
       "      <th></th>\n",
       "      <th>Apples</th>\n",
       "      <th>Bananas</th>\n",
       "    </tr>\n",
       "  </thead>\n",
       "  <tbody>\n",
       "    <tr>\n",
       "      <th>2017 Sales</th>\n",
       "      <td>35</td>\n",
       "      <td>21</td>\n",
       "    </tr>\n",
       "    <tr>\n",
       "      <th>2018 Sales</th>\n",
       "      <td>41</td>\n",
       "      <td>34</td>\n",
       "    </tr>\n",
       "  </tbody>\n",
       "</table>\n",
       "</div>"
      ],
      "text/plain": [
       "            Apples  Bananas\n",
       "2017 Sales      35       21\n",
       "2018 Sales      41       34"
      ]
     },
     "execution_count": 4,
     "metadata": {},
     "output_type": "execute_result"
    }
   ],
   "source": [
    "# Your code goes here. Create a dataframe matching the above diagram and assign it to the variable fruit_sales.\n",
    "data = {'Apples': [35,41], 'Bananas': [21,34] } \n",
    "fruit_sales = pd.DataFrame(data,index=['2017 Sales','2018 Sales'])\n",
    "\n",
    "# Check your answer\n",
    "q2.check()\n",
    "fruit_sales"
   ]
  },
  {
   "cell_type": "code",
   "execution_count": 5,
   "id": "be5aae7c",
   "metadata": {
    "execution": {
     "iopub.execute_input": "2022-04-01T20:44:40.019459Z",
     "iopub.status.busy": "2022-04-01T20:44:40.018829Z",
     "iopub.status.idle": "2022-04-01T20:44:40.021280Z",
     "shell.execute_reply": "2022-04-01T20:44:40.021769Z",
     "shell.execute_reply.started": "2022-04-01T20:38:23.136123Z"
    },
    "papermill": {
     "duration": 0.027616,
     "end_time": "2022-04-01T20:44:40.021916",
     "exception": false,
     "start_time": "2022-04-01T20:44:39.994300",
     "status": "completed"
    },
    "tags": []
   },
   "outputs": [],
   "source": [
    "#q2.hint()\n",
    "#q2.solution()"
   ]
  },
  {
   "cell_type": "markdown",
   "id": "13dafa38",
   "metadata": {
    "papermill": {
     "duration": 0.021469,
     "end_time": "2022-04-01T20:44:40.065840",
     "exception": false,
     "start_time": "2022-04-01T20:44:40.044371",
     "status": "completed"
    },
    "tags": []
   },
   "source": [
    "## 3.\n",
    "\n",
    "Create a variable `ingredients` with a Series that looks like:\n",
    "\n",
    "```\n",
    "Flour     4 cups\n",
    "Milk       1 cup\n",
    "Eggs     2 large\n",
    "Spam       1 can\n",
    "Name: Dinner, dtype: object\n",
    "```"
   ]
  },
  {
   "cell_type": "code",
   "execution_count": 6,
   "id": "de80516b",
   "metadata": {
    "execution": {
     "iopub.execute_input": "2022-04-01T20:44:40.112167Z",
     "iopub.status.busy": "2022-04-01T20:44:40.111603Z",
     "iopub.status.idle": "2022-04-01T20:44:40.120469Z",
     "shell.execute_reply": "2022-04-01T20:44:40.120923Z",
     "shell.execute_reply.started": "2022-04-01T20:38:23.142026Z"
    },
    "papermill": {
     "duration": 0.033887,
     "end_time": "2022-04-01T20:44:40.121068",
     "exception": false,
     "start_time": "2022-04-01T20:44:40.087181",
     "status": "completed"
    },
    "tags": []
   },
   "outputs": [
    {
     "data": {
      "application/javascript": [
       "parent.postMessage({\"jupyterEvent\": \"custom.exercise_interaction\", \"data\": {\"outcomeType\": 1, \"valueTowardsCompletion\": 0.16666666666666666, \"interactionType\": 1, \"questionType\": 2, \"questionId\": \"3_RecipeSeriesCreation\", \"learnToolsVersion\": \"0.3.4\", \"failureMessage\": \"\", \"exceptionClass\": \"\", \"trace\": \"\"}}, \"*\")"
      ],
      "text/plain": [
       "<IPython.core.display.Javascript object>"
      ]
     },
     "metadata": {},
     "output_type": "display_data"
    },
    {
     "data": {
      "text/markdown": [
       "<span style=\"color:#33cc33\">Correct</span>"
      ],
      "text/plain": [
       "Correct"
      ]
     },
     "metadata": {},
     "output_type": "display_data"
    },
    {
     "data": {
      "text/plain": [
       "Flour     4 cups\n",
       "Milk       1 cup\n",
       "Eggs     2 large\n",
       "Spam       1 can\n",
       "Name: Dinner, dtype: object"
      ]
     },
     "execution_count": 6,
     "metadata": {},
     "output_type": "execute_result"
    }
   ],
   "source": [
    "ingredients = pd.Series(['4 cups','1 cup','2 large','1 can'], index=['Flour', 'Milk', 'Eggs','Spam'], name='Dinner')\n",
    "\n",
    "# Check your answer\n",
    "q3.check()\n",
    "ingredients"
   ]
  },
  {
   "cell_type": "code",
   "execution_count": 7,
   "id": "6d4ad0e0",
   "metadata": {
    "execution": {
     "iopub.execute_input": "2022-04-01T20:44:40.171226Z",
     "iopub.status.busy": "2022-04-01T20:44:40.170481Z",
     "iopub.status.idle": "2022-04-01T20:44:40.172549Z",
     "shell.execute_reply": "2022-04-01T20:44:40.173013Z",
     "shell.execute_reply.started": "2022-04-01T20:38:23.161136Z"
    },
    "papermill": {
     "duration": 0.029197,
     "end_time": "2022-04-01T20:44:40.173169",
     "exception": false,
     "start_time": "2022-04-01T20:44:40.143972",
     "status": "completed"
    },
    "tags": []
   },
   "outputs": [],
   "source": [
    "#q3.hint()\n",
    "#q3.solution()"
   ]
  },
  {
   "cell_type": "markdown",
   "id": "8c9dc00b",
   "metadata": {
    "papermill": {
     "duration": 0.023549,
     "end_time": "2022-04-01T20:44:40.219879",
     "exception": false,
     "start_time": "2022-04-01T20:44:40.196330",
     "status": "completed"
    },
    "tags": []
   },
   "source": [
    "## 4.\n",
    "\n",
    "Read the following csv dataset of wine reviews into a DataFrame called `reviews`:\n",
    "\n",
    "![](https://i.imgur.com/74RCZtU.png)\n",
    "\n",
    "The filepath to the csv file is `../input/wine-reviews/winemag-data_first150k.csv`. The first few lines look like:\n",
    "\n",
    "```\n",
    ",country,description,designation,points,price,province,region_1,region_2,variety,winery\n",
    "0,US,\"This tremendous 100% varietal wine[...]\",Martha's Vineyard,96,235.0,California,Napa Valley,Napa,Cabernet Sauvignon,Heitz\n",
    "1,Spain,\"Ripe aromas of fig, blackberry and[...]\",Carodorum Selección Especial Reserva,96,110.0,Northern Spain,Toro,,Tinta de Toro,Bodega Carmen Rodríguez\n",
    "```"
   ]
  },
  {
   "cell_type": "code",
   "execution_count": 8,
   "id": "cd865a70",
   "metadata": {
    "execution": {
     "iopub.execute_input": "2022-04-01T20:44:40.273280Z",
     "iopub.status.busy": "2022-04-01T20:44:40.272595Z",
     "iopub.status.idle": "2022-04-01T20:44:41.150281Z",
     "shell.execute_reply": "2022-04-01T20:44:41.150799Z",
     "shell.execute_reply.started": "2022-04-01T20:38:23.167128Z"
    },
    "papermill": {
     "duration": 0.90634,
     "end_time": "2022-04-01T20:44:41.150957",
     "exception": false,
     "start_time": "2022-04-01T20:44:40.244617",
     "status": "completed"
    },
    "tags": []
   },
   "outputs": [
    {
     "data": {
      "application/javascript": [
       "parent.postMessage({\"jupyterEvent\": \"custom.exercise_interaction\", \"data\": {\"outcomeType\": 1, \"valueTowardsCompletion\": 0.16666666666666666, \"interactionType\": 1, \"questionType\": 1, \"questionId\": \"4_ReadWineCsv\", \"learnToolsVersion\": \"0.3.4\", \"failureMessage\": \"\", \"exceptionClass\": \"\", \"trace\": \"\"}}, \"*\")"
      ],
      "text/plain": [
       "<IPython.core.display.Javascript object>"
      ]
     },
     "metadata": {},
     "output_type": "display_data"
    },
    {
     "data": {
      "text/markdown": [
       "<span style=\"color:#33cc33\">Correct</span>"
      ],
      "text/plain": [
       "Correct"
      ]
     },
     "metadata": {},
     "output_type": "display_data"
    },
    {
     "data": {
      "text/html": [
       "<div>\n",
       "<style scoped>\n",
       "    .dataframe tbody tr th:only-of-type {\n",
       "        vertical-align: middle;\n",
       "    }\n",
       "\n",
       "    .dataframe tbody tr th {\n",
       "        vertical-align: top;\n",
       "    }\n",
       "\n",
       "    .dataframe thead th {\n",
       "        text-align: right;\n",
       "    }\n",
       "</style>\n",
       "<table border=\"1\" class=\"dataframe\">\n",
       "  <thead>\n",
       "    <tr style=\"text-align: right;\">\n",
       "      <th></th>\n",
       "      <th>country</th>\n",
       "      <th>description</th>\n",
       "      <th>designation</th>\n",
       "      <th>points</th>\n",
       "      <th>price</th>\n",
       "      <th>province</th>\n",
       "      <th>region_1</th>\n",
       "      <th>region_2</th>\n",
       "      <th>variety</th>\n",
       "      <th>winery</th>\n",
       "    </tr>\n",
       "  </thead>\n",
       "  <tbody>\n",
       "    <tr>\n",
       "      <th>0</th>\n",
       "      <td>US</td>\n",
       "      <td>This tremendous 100% varietal wine hails from ...</td>\n",
       "      <td>Martha's Vineyard</td>\n",
       "      <td>96</td>\n",
       "      <td>235.0</td>\n",
       "      <td>California</td>\n",
       "      <td>Napa Valley</td>\n",
       "      <td>Napa</td>\n",
       "      <td>Cabernet Sauvignon</td>\n",
       "      <td>Heitz</td>\n",
       "    </tr>\n",
       "    <tr>\n",
       "      <th>1</th>\n",
       "      <td>Spain</td>\n",
       "      <td>Ripe aromas of fig, blackberry and cassis are ...</td>\n",
       "      <td>Carodorum Selección Especial Reserva</td>\n",
       "      <td>96</td>\n",
       "      <td>110.0</td>\n",
       "      <td>Northern Spain</td>\n",
       "      <td>Toro</td>\n",
       "      <td>NaN</td>\n",
       "      <td>Tinta de Toro</td>\n",
       "      <td>Bodega Carmen Rodríguez</td>\n",
       "    </tr>\n",
       "    <tr>\n",
       "      <th>...</th>\n",
       "      <td>...</td>\n",
       "      <td>...</td>\n",
       "      <td>...</td>\n",
       "      <td>...</td>\n",
       "      <td>...</td>\n",
       "      <td>...</td>\n",
       "      <td>...</td>\n",
       "      <td>...</td>\n",
       "      <td>...</td>\n",
       "      <td>...</td>\n",
       "    </tr>\n",
       "    <tr>\n",
       "      <th>150928</th>\n",
       "      <td>France</td>\n",
       "      <td>A perfect salmon shade, with scents of peaches...</td>\n",
       "      <td>Grand Brut Rosé</td>\n",
       "      <td>90</td>\n",
       "      <td>52.0</td>\n",
       "      <td>Champagne</td>\n",
       "      <td>Champagne</td>\n",
       "      <td>NaN</td>\n",
       "      <td>Champagne Blend</td>\n",
       "      <td>Gosset</td>\n",
       "    </tr>\n",
       "    <tr>\n",
       "      <th>150929</th>\n",
       "      <td>Italy</td>\n",
       "      <td>More Pinot Grigios should taste like this. A r...</td>\n",
       "      <td>NaN</td>\n",
       "      <td>90</td>\n",
       "      <td>15.0</td>\n",
       "      <td>Northeastern Italy</td>\n",
       "      <td>Alto Adige</td>\n",
       "      <td>NaN</td>\n",
       "      <td>Pinot Grigio</td>\n",
       "      <td>Alois Lageder</td>\n",
       "    </tr>\n",
       "  </tbody>\n",
       "</table>\n",
       "<p>150930 rows × 10 columns</p>\n",
       "</div>"
      ],
      "text/plain": [
       "       country                                        description  \\\n",
       "0           US  This tremendous 100% varietal wine hails from ...   \n",
       "1        Spain  Ripe aromas of fig, blackberry and cassis are ...   \n",
       "...        ...                                                ...   \n",
       "150928  France  A perfect salmon shade, with scents of peaches...   \n",
       "150929   Italy  More Pinot Grigios should taste like this. A r...   \n",
       "\n",
       "                                 designation  points  price  \\\n",
       "0                          Martha's Vineyard      96  235.0   \n",
       "1       Carodorum Selección Especial Reserva      96  110.0   \n",
       "...                                      ...     ...    ...   \n",
       "150928                       Grand Brut Rosé      90   52.0   \n",
       "150929                                   NaN      90   15.0   \n",
       "\n",
       "                  province     region_1 region_2             variety  \\\n",
       "0               California  Napa Valley     Napa  Cabernet Sauvignon   \n",
       "1           Northern Spain         Toro      NaN       Tinta de Toro   \n",
       "...                    ...          ...      ...                 ...   \n",
       "150928           Champagne    Champagne      NaN     Champagne Blend   \n",
       "150929  Northeastern Italy   Alto Adige      NaN        Pinot Grigio   \n",
       "\n",
       "                         winery  \n",
       "0                         Heitz  \n",
       "1       Bodega Carmen Rodríguez  \n",
       "...                         ...  \n",
       "150928                   Gosset  \n",
       "150929            Alois Lageder  \n",
       "\n",
       "[150930 rows x 10 columns]"
      ]
     },
     "execution_count": 8,
     "metadata": {},
     "output_type": "execute_result"
    }
   ],
   "source": [
    "reviews = pd.read_csv('../input/wine-reviews/winemag-data_first150k.csv', index_col=0)\n",
    "\n",
    "# Check your answer\n",
    "q4.check()\n",
    "reviews"
   ]
  },
  {
   "cell_type": "code",
   "execution_count": 9,
   "id": "c6196ec8",
   "metadata": {
    "execution": {
     "iopub.execute_input": "2022-04-01T20:44:41.205240Z",
     "iopub.status.busy": "2022-04-01T20:44:41.204388Z",
     "iopub.status.idle": "2022-04-01T20:44:41.207309Z",
     "shell.execute_reply": "2022-04-01T20:44:41.206779Z",
     "shell.execute_reply.started": "2022-04-01T20:38:24.081265Z"
    },
    "papermill": {
     "duration": 0.031563,
     "end_time": "2022-04-01T20:44:41.207428",
     "exception": false,
     "start_time": "2022-04-01T20:44:41.175865",
     "status": "completed"
    },
    "tags": []
   },
   "outputs": [],
   "source": [
    "#q4.hint()\n",
    "#q4.solution()"
   ]
  },
  {
   "cell_type": "markdown",
   "id": "6b884993",
   "metadata": {
    "papermill": {
     "duration": 0.026788,
     "end_time": "2022-04-01T20:44:41.259609",
     "exception": false,
     "start_time": "2022-04-01T20:44:41.232821",
     "status": "completed"
    },
    "tags": []
   },
   "source": [
    "## 5.\n",
    "\n",
    "Run the cell below to create and display a DataFrame called `animals`:"
   ]
  },
  {
   "cell_type": "code",
   "execution_count": 10,
   "id": "ac2e8fab",
   "metadata": {
    "execution": {
     "iopub.execute_input": "2022-04-01T20:44:41.320875Z",
     "iopub.status.busy": "2022-04-01T20:44:41.320113Z",
     "iopub.status.idle": "2022-04-01T20:44:41.323111Z",
     "shell.execute_reply": "2022-04-01T20:44:41.323556Z",
     "shell.execute_reply.started": "2022-04-01T20:38:24.087124Z"
    },
    "papermill": {
     "duration": 0.038565,
     "end_time": "2022-04-01T20:44:41.323726",
     "exception": false,
     "start_time": "2022-04-01T20:44:41.285161",
     "status": "completed"
    },
    "tags": []
   },
   "outputs": [
    {
     "data": {
      "text/html": [
       "<div>\n",
       "<style scoped>\n",
       "    .dataframe tbody tr th:only-of-type {\n",
       "        vertical-align: middle;\n",
       "    }\n",
       "\n",
       "    .dataframe tbody tr th {\n",
       "        vertical-align: top;\n",
       "    }\n",
       "\n",
       "    .dataframe thead th {\n",
       "        text-align: right;\n",
       "    }\n",
       "</style>\n",
       "<table border=\"1\" class=\"dataframe\">\n",
       "  <thead>\n",
       "    <tr style=\"text-align: right;\">\n",
       "      <th></th>\n",
       "      <th>Cows</th>\n",
       "      <th>Goats</th>\n",
       "    </tr>\n",
       "  </thead>\n",
       "  <tbody>\n",
       "    <tr>\n",
       "      <th>Year 1</th>\n",
       "      <td>12</td>\n",
       "      <td>22</td>\n",
       "    </tr>\n",
       "    <tr>\n",
       "      <th>Year 2</th>\n",
       "      <td>20</td>\n",
       "      <td>19</td>\n",
       "    </tr>\n",
       "  </tbody>\n",
       "</table>\n",
       "</div>"
      ],
      "text/plain": [
       "        Cows  Goats\n",
       "Year 1    12     22\n",
       "Year 2    20     19"
      ]
     },
     "execution_count": 10,
     "metadata": {},
     "output_type": "execute_result"
    }
   ],
   "source": [
    "animals = pd.DataFrame({'Cows': [12, 20], 'Goats': [22, 19]}, index=['Year 1', 'Year 2'])\n",
    "animals"
   ]
  },
  {
   "cell_type": "markdown",
   "id": "1799ad94",
   "metadata": {
    "papermill": {
     "duration": 0.027037,
     "end_time": "2022-04-01T20:44:41.377161",
     "exception": false,
     "start_time": "2022-04-01T20:44:41.350124",
     "status": "completed"
    },
    "tags": []
   },
   "source": [
    "In the cell below, write code to save this DataFrame to disk as a csv file with the name `cows_and_goats.csv`."
   ]
  },
  {
   "cell_type": "code",
   "execution_count": 11,
   "id": "b077e413",
   "metadata": {
    "execution": {
     "iopub.execute_input": "2022-04-01T20:44:41.432872Z",
     "iopub.status.busy": "2022-04-01T20:44:41.431423Z",
     "iopub.status.idle": "2022-04-01T20:44:41.442066Z",
     "shell.execute_reply": "2022-04-01T20:44:41.442538Z",
     "shell.execute_reply.started": "2022-04-01T20:38:24.103421Z"
    },
    "papermill": {
     "duration": 0.040125,
     "end_time": "2022-04-01T20:44:41.442721",
     "exception": false,
     "start_time": "2022-04-01T20:44:41.402596",
     "status": "completed"
    },
    "tags": []
   },
   "outputs": [
    {
     "data": {
      "application/javascript": [
       "parent.postMessage({\"jupyterEvent\": \"custom.exercise_interaction\", \"data\": {\"outcomeType\": 1, \"valueTowardsCompletion\": 0.16666666666666666, \"interactionType\": 1, \"questionType\": 2, \"questionId\": \"5_SaveAnimalsCsv\", \"learnToolsVersion\": \"0.3.4\", \"failureMessage\": \"\", \"exceptionClass\": \"\", \"trace\": \"\"}}, \"*\")"
      ],
      "text/plain": [
       "<IPython.core.display.Javascript object>"
      ]
     },
     "metadata": {},
     "output_type": "display_data"
    },
    {
     "data": {
      "text/markdown": [
       "<span style=\"color:#33cc33\">Correct</span>"
      ],
      "text/plain": [
       "Correct"
      ]
     },
     "metadata": {},
     "output_type": "display_data"
    }
   ],
   "source": [
    "animals.to_csv('cows_and_goats.csv')\n",
    "\n",
    "# Check your answer\n",
    "q5.check()"
   ]
  },
  {
   "cell_type": "code",
   "execution_count": 12,
   "id": "4737417b",
   "metadata": {
    "execution": {
     "iopub.execute_input": "2022-04-01T20:44:41.500747Z",
     "iopub.status.busy": "2022-04-01T20:44:41.500080Z",
     "iopub.status.idle": "2022-04-01T20:44:41.503471Z",
     "shell.execute_reply": "2022-04-01T20:44:41.502906Z",
     "shell.execute_reply.started": "2022-04-01T20:38:24.121276Z"
    },
    "papermill": {
     "duration": 0.033262,
     "end_time": "2022-04-01T20:44:41.503612",
     "exception": false,
     "start_time": "2022-04-01T20:44:41.470350",
     "status": "completed"
    },
    "tags": []
   },
   "outputs": [],
   "source": [
    "#q5.hint()\n",
    "#q5.solution()"
   ]
  },
  {
   "cell_type": "markdown",
   "id": "682f154f",
   "metadata": {
    "papermill": {
     "duration": 0.02699,
     "end_time": "2022-04-01T20:44:41.557610",
     "exception": false,
     "start_time": "2022-04-01T20:44:41.530620",
     "status": "completed"
    },
    "tags": []
   },
   "source": [
    "# Keep going\n",
    "\n",
    "Move on to learn about **[indexing, selecting and assigning](https://www.kaggle.com/residentmario/indexing-selecting-assigning)**."
   ]
  },
  {
   "cell_type": "markdown",
   "id": "7f0075b7",
   "metadata": {
    "papermill": {
     "duration": 0.027367,
     "end_time": "2022-04-01T20:44:41.612293",
     "exception": false,
     "start_time": "2022-04-01T20:44:41.584926",
     "status": "completed"
    },
    "tags": []
   },
   "source": [
    "---\n",
    "\n",
    "\n",
    "\n",
    "\n",
    "*Have questions or comments? Visit the [course discussion forum](https://www.kaggle.com/learn/pandas/discussion) to chat with other learners.*"
   ]
  }
 ],
 "metadata": {
  "kernelspec": {
   "display_name": "Python 3",
   "language": "python",
   "name": "python3"
  },
  "language_info": {
   "codemirror_mode": {
    "name": "ipython",
    "version": 3
   },
   "file_extension": ".py",
   "mimetype": "text/x-python",
   "name": "python",
   "nbconvert_exporter": "python",
   "pygments_lexer": "ipython3",
   "version": "3.7.12"
  },
  "papermill": {
   "default_parameters": {},
   "duration": 13.590746,
   "end_time": "2022-04-01T20:44:42.248675",
   "environment_variables": {},
   "exception": null,
   "input_path": "__notebook__.ipynb",
   "output_path": "__notebook__.ipynb",
   "parameters": {},
   "start_time": "2022-04-01T20:44:28.657929",
   "version": "2.3.3"
  }
 },
 "nbformat": 4,
 "nbformat_minor": 5
}
