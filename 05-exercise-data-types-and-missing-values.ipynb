{
 "cells": [
  {
   "cell_type": "markdown",
   "id": "460a3130",
   "metadata": {
    "papermill": {
     "duration": 0.013263,
     "end_time": "2022-04-01T21:21:33.552244",
     "exception": false,
     "start_time": "2022-04-01T21:21:33.538981",
     "status": "completed"
    },
    "tags": []
   },
   "source": [
    "**This notebook is an exercise in the [Pandas](https://www.kaggle.com/learn/pandas) course.  You can reference the tutorial at [this link](https://www.kaggle.com/residentmario/data-types-and-missing-values).**\n",
    "\n",
    "---\n"
   ]
  },
  {
   "cell_type": "markdown",
   "id": "87572304",
   "metadata": {
    "papermill": {
     "duration": 0.011131,
     "end_time": "2022-04-01T21:21:33.575541",
     "exception": false,
     "start_time": "2022-04-01T21:21:33.564410",
     "status": "completed"
    },
    "tags": []
   },
   "source": [
    "# Introduction\n",
    "\n",
    "Run the following cell to load your data and some utility functions."
   ]
  },
  {
   "cell_type": "code",
   "execution_count": 1,
   "id": "f79c9048",
   "metadata": {
    "execution": {
     "iopub.execute_input": "2022-04-01T21:21:33.609479Z",
     "iopub.status.busy": "2022-04-01T21:21:33.608897Z",
     "iopub.status.idle": "2022-04-01T21:21:36.291640Z",
     "shell.execute_reply": "2022-04-01T21:21:36.292320Z",
     "shell.execute_reply.started": "2022-04-01T21:20:44.393943Z"
    },
    "papermill": {
     "duration": 2.705715,
     "end_time": "2022-04-01T21:21:36.292714",
     "exception": false,
     "start_time": "2022-04-01T21:21:33.586999",
     "status": "completed"
    },
    "tags": []
   },
   "outputs": [
    {
     "name": "stdout",
     "output_type": "stream",
     "text": [
      "Setup complete.\n"
     ]
    }
   ],
   "source": [
    "import pandas as pd\n",
    "\n",
    "reviews = pd.read_csv(\"../input/wine-reviews/winemag-data-130k-v2.csv\", index_col=0)\n",
    "\n",
    "from learntools.core import binder; binder.bind(globals())\n",
    "from learntools.pandas.data_types_and_missing_data import *\n",
    "print(\"Setup complete.\")"
   ]
  },
  {
   "cell_type": "markdown",
   "id": "4f86fe94",
   "metadata": {
    "papermill": {
     "duration": 0.011709,
     "end_time": "2022-04-01T21:21:36.317191",
     "exception": false,
     "start_time": "2022-04-01T21:21:36.305482",
     "status": "completed"
    },
    "tags": []
   },
   "source": [
    "# Exercises"
   ]
  },
  {
   "cell_type": "markdown",
   "id": "65ba31b3",
   "metadata": {
    "papermill": {
     "duration": 0.011353,
     "end_time": "2022-04-01T21:21:36.340335",
     "exception": false,
     "start_time": "2022-04-01T21:21:36.328982",
     "status": "completed"
    },
    "tags": []
   },
   "source": [
    "## 1. \n",
    "What is the data type of the `points` column in the dataset?"
   ]
  },
  {
   "cell_type": "code",
   "execution_count": 2,
   "id": "31bb84cc",
   "metadata": {
    "execution": {
     "iopub.execute_input": "2022-04-01T21:21:36.367607Z",
     "iopub.status.busy": "2022-04-01T21:21:36.366690Z",
     "iopub.status.idle": "2022-04-01T21:21:36.377497Z",
     "shell.execute_reply": "2022-04-01T21:21:36.378048Z",
     "shell.execute_reply.started": "2022-04-01T21:20:47.287999Z"
    },
    "papermill": {
     "duration": 0.026094,
     "end_time": "2022-04-01T21:21:36.378219",
     "exception": false,
     "start_time": "2022-04-01T21:21:36.352125",
     "status": "completed"
    },
    "tags": []
   },
   "outputs": [
    {
     "data": {
      "application/javascript": [
       "parent.postMessage({\"jupyterEvent\": \"custom.exercise_interaction\", \"data\": {\"outcomeType\": 1, \"valueTowardsCompletion\": 0.25, \"interactionType\": 1, \"questionType\": 1, \"questionId\": \"1_PointsDtype\", \"learnToolsVersion\": \"0.3.4\", \"failureMessage\": \"\", \"exceptionClass\": \"\", \"trace\": \"\"}}, \"*\")"
      ],
      "text/plain": [
       "<IPython.core.display.Javascript object>"
      ]
     },
     "metadata": {},
     "output_type": "display_data"
    },
    {
     "data": {
      "text/markdown": [
       "<span style=\"color:#33cc33\">Correct</span>"
      ],
      "text/plain": [
       "Correct"
      ]
     },
     "metadata": {},
     "output_type": "display_data"
    }
   ],
   "source": [
    "# Your code here\n",
    "dtype = reviews.points.dtypes\n",
    "\n",
    "# Check your answer\n",
    "q1.check()"
   ]
  },
  {
   "cell_type": "code",
   "execution_count": 3,
   "id": "994f2767",
   "metadata": {
    "execution": {
     "iopub.execute_input": "2022-04-01T21:21:36.408338Z",
     "iopub.status.busy": "2022-04-01T21:21:36.407403Z",
     "iopub.status.idle": "2022-04-01T21:21:36.410522Z",
     "shell.execute_reply": "2022-04-01T21:21:36.411158Z",
     "shell.execute_reply.started": "2022-04-01T21:20:47.304746Z"
    },
    "papermill": {
     "duration": 0.019538,
     "end_time": "2022-04-01T21:21:36.411340",
     "exception": false,
     "start_time": "2022-04-01T21:21:36.391802",
     "status": "completed"
    },
    "tags": []
   },
   "outputs": [],
   "source": [
    "#q1.hint()\n",
    "#q1.solution()"
   ]
  },
  {
   "cell_type": "markdown",
   "id": "3c32f73b",
   "metadata": {
    "papermill": {
     "duration": 0.012769,
     "end_time": "2022-04-01T21:21:36.437338",
     "exception": false,
     "start_time": "2022-04-01T21:21:36.424569",
     "status": "completed"
    },
    "tags": []
   },
   "source": [
    "## 2. \n",
    "Create a Series from entries in the `points` column, but convert the entries to strings. Hint: strings are `str` in native Python."
   ]
  },
  {
   "cell_type": "code",
   "execution_count": 4,
   "id": "1ffcd9e7",
   "metadata": {
    "execution": {
     "iopub.execute_input": "2022-04-01T21:21:36.466075Z",
     "iopub.status.busy": "2022-04-01T21:21:36.465436Z",
     "iopub.status.idle": "2022-04-01T21:21:36.543851Z",
     "shell.execute_reply": "2022-04-01T21:21:36.544302Z",
     "shell.execute_reply.started": "2022-04-01T21:20:47.312603Z"
    },
    "papermill": {
     "duration": 0.094302,
     "end_time": "2022-04-01T21:21:36.544478",
     "exception": false,
     "start_time": "2022-04-01T21:21:36.450176",
     "status": "completed"
    },
    "tags": []
   },
   "outputs": [
    {
     "data": {
      "application/javascript": [
       "parent.postMessage({\"jupyterEvent\": \"custom.exercise_interaction\", \"data\": {\"outcomeType\": 1, \"valueTowardsCompletion\": 0.25, \"interactionType\": 1, \"questionType\": 1, \"questionId\": \"2_StrPoints\", \"learnToolsVersion\": \"0.3.4\", \"failureMessage\": \"\", \"exceptionClass\": \"\", \"trace\": \"\"}}, \"*\")"
      ],
      "text/plain": [
       "<IPython.core.display.Javascript object>"
      ]
     },
     "metadata": {},
     "output_type": "display_data"
    },
    {
     "data": {
      "text/markdown": [
       "<span style=\"color:#33cc33\">Correct</span>"
      ],
      "text/plain": [
       "Correct"
      ]
     },
     "metadata": {},
     "output_type": "display_data"
    }
   ],
   "source": [
    "point_strings = reviews.points.astype('str')\n",
    "\n",
    "# Check your answer\n",
    "q2.check()"
   ]
  },
  {
   "cell_type": "code",
   "execution_count": 5,
   "id": "4cbb6974",
   "metadata": {
    "execution": {
     "iopub.execute_input": "2022-04-01T21:21:36.577541Z",
     "iopub.status.busy": "2022-04-01T21:21:36.576940Z",
     "iopub.status.idle": "2022-04-01T21:21:36.579775Z",
     "shell.execute_reply": "2022-04-01T21:21:36.579204Z",
     "shell.execute_reply.started": "2022-04-01T21:20:47.403712Z"
    },
    "papermill": {
     "duration": 0.021246,
     "end_time": "2022-04-01T21:21:36.579933",
     "exception": false,
     "start_time": "2022-04-01T21:21:36.558687",
     "status": "completed"
    },
    "tags": []
   },
   "outputs": [],
   "source": [
    "#q2.hint()\n",
    "#q2.solution()"
   ]
  },
  {
   "cell_type": "markdown",
   "id": "bdb2a4f3",
   "metadata": {
    "papermill": {
     "duration": 0.013434,
     "end_time": "2022-04-01T21:21:36.607294",
     "exception": false,
     "start_time": "2022-04-01T21:21:36.593860",
     "status": "completed"
    },
    "tags": []
   },
   "source": [
    "## 3.\n",
    "Sometimes the price column is null. How many reviews in the dataset are missing a price?"
   ]
  },
  {
   "cell_type": "code",
   "execution_count": 6,
   "id": "2d84671f",
   "metadata": {
    "execution": {
     "iopub.execute_input": "2022-04-01T21:21:36.638131Z",
     "iopub.status.busy": "2022-04-01T21:21:36.637506Z",
     "iopub.status.idle": "2022-04-01T21:21:36.644941Z",
     "shell.execute_reply": "2022-04-01T21:21:36.645455Z",
     "shell.execute_reply.started": "2022-04-01T21:20:47.414252Z"
    },
    "papermill": {
     "duration": 0.024452,
     "end_time": "2022-04-01T21:21:36.645618",
     "exception": false,
     "start_time": "2022-04-01T21:21:36.621166",
     "status": "completed"
    },
    "tags": []
   },
   "outputs": [
    {
     "data": {
      "application/javascript": [
       "parent.postMessage({\"jupyterEvent\": \"custom.exercise_interaction\", \"data\": {\"outcomeType\": 1, \"valueTowardsCompletion\": 0.25, \"interactionType\": 1, \"questionType\": 1, \"questionId\": \"3_CountMissingPrices\", \"learnToolsVersion\": \"0.3.4\", \"failureMessage\": \"\", \"exceptionClass\": \"\", \"trace\": \"\"}}, \"*\")"
      ],
      "text/plain": [
       "<IPython.core.display.Javascript object>"
      ]
     },
     "metadata": {},
     "output_type": "display_data"
    },
    {
     "data": {
      "text/markdown": [
       "<span style=\"color:#33cc33\">Correct</span>"
      ],
      "text/plain": [
       "Correct"
      ]
     },
     "metadata": {},
     "output_type": "display_data"
    }
   ],
   "source": [
    "n_missing_prices = reviews.price.isna().sum()\n",
    "\n",
    "# Check your answer\n",
    "q3.check()"
   ]
  },
  {
   "cell_type": "code",
   "execution_count": 7,
   "id": "c5f6e857",
   "metadata": {
    "execution": {
     "iopub.execute_input": "2022-04-01T21:21:36.679012Z",
     "iopub.status.busy": "2022-04-01T21:21:36.677722Z",
     "iopub.status.idle": "2022-04-01T21:21:36.681656Z",
     "shell.execute_reply": "2022-04-01T21:21:36.681184Z",
     "shell.execute_reply.started": "2022-04-01T21:20:47.432620Z"
    },
    "papermill": {
     "duration": 0.021185,
     "end_time": "2022-04-01T21:21:36.681795",
     "exception": false,
     "start_time": "2022-04-01T21:21:36.660610",
     "status": "completed"
    },
    "tags": []
   },
   "outputs": [],
   "source": [
    "#q3.hint()\n",
    "#q3.solution()"
   ]
  },
  {
   "cell_type": "markdown",
   "id": "e9d2b005",
   "metadata": {
    "papermill": {
     "duration": 0.014904,
     "end_time": "2022-04-01T21:21:36.711603",
     "exception": false,
     "start_time": "2022-04-01T21:21:36.696699",
     "status": "completed"
    },
    "tags": []
   },
   "source": [
    "## 4.\n",
    "What are the most common wine-producing regions? Create a Series counting the number of times each value occurs in the `region_1` field. This field is often missing data, so replace missing values with `Unknown`. Sort in descending order.  Your output should look something like this:\n",
    "\n",
    "```\n",
    "Unknown                    21247\n",
    "Napa Valley                 4480\n",
    "                           ...  \n",
    "Bardolino Superiore            1\n",
    "Primitivo del Tarantino        1\n",
    "Name: region_1, Length: 1230, dtype: int64\n",
    "```"
   ]
  },
  {
   "cell_type": "code",
   "execution_count": 8,
   "id": "1b429f94",
   "metadata": {
    "execution": {
     "iopub.execute_input": "2022-04-01T21:21:36.751500Z",
     "iopub.status.busy": "2022-04-01T21:21:36.750770Z",
     "iopub.status.idle": "2022-04-01T21:21:36.783584Z",
     "shell.execute_reply": "2022-04-01T21:21:36.783127Z",
     "shell.execute_reply.started": "2022-04-01T21:20:47.442872Z"
    },
    "papermill": {
     "duration": 0.057514,
     "end_time": "2022-04-01T21:21:36.783721",
     "exception": false,
     "start_time": "2022-04-01T21:21:36.726207",
     "status": "completed"
    },
    "tags": []
   },
   "outputs": [
    {
     "data": {
      "application/javascript": [
       "parent.postMessage({\"jupyterEvent\": \"custom.exercise_interaction\", \"data\": {\"outcomeType\": 1, \"valueTowardsCompletion\": 0.25, \"interactionType\": 1, \"questionType\": 2, \"questionId\": \"4_ReviewsPerRegion\", \"learnToolsVersion\": \"0.3.4\", \"failureMessage\": \"\", \"exceptionClass\": \"\", \"trace\": \"\"}}, \"*\")"
      ],
      "text/plain": [
       "<IPython.core.display.Javascript object>"
      ]
     },
     "metadata": {},
     "output_type": "display_data"
    },
    {
     "data": {
      "text/markdown": [
       "<span style=\"color:#33cc33\">Correct</span>"
      ],
      "text/plain": [
       "Correct"
      ]
     },
     "metadata": {},
     "output_type": "display_data"
    }
   ],
   "source": [
    "reviews_per_region = reviews.region_1.fillna('Unknown').value_counts().sort_values(ascending=False)\n",
    "\n",
    "# Check your answer\n",
    "q4.check()"
   ]
  },
  {
   "cell_type": "code",
   "execution_count": 9,
   "id": "a2ac65c3",
   "metadata": {
    "execution": {
     "iopub.execute_input": "2022-04-01T21:21:36.819125Z",
     "iopub.status.busy": "2022-04-01T21:21:36.818475Z",
     "iopub.status.idle": "2022-04-01T21:21:36.821433Z",
     "shell.execute_reply": "2022-04-01T21:21:36.820802Z",
     "shell.execute_reply.started": "2022-04-01T21:20:47.491265Z"
    },
    "papermill": {
     "duration": 0.02225,
     "end_time": "2022-04-01T21:21:36.821579",
     "exception": false,
     "start_time": "2022-04-01T21:21:36.799329",
     "status": "completed"
    },
    "tags": []
   },
   "outputs": [],
   "source": [
    "#q4.hint()\n",
    "#q4.solution()"
   ]
  },
  {
   "cell_type": "markdown",
   "id": "783e9da6",
   "metadata": {
    "papermill": {
     "duration": 0.01515,
     "end_time": "2022-04-01T21:21:36.852824",
     "exception": false,
     "start_time": "2022-04-01T21:21:36.837674",
     "status": "completed"
    },
    "tags": []
   },
   "source": [
    "# Keep going\n",
    "\n",
    "Move on to **[renaming and combining](https://www.kaggle.com/residentmario/renaming-and-combining)**."
   ]
  },
  {
   "cell_type": "markdown",
   "id": "860739b1",
   "metadata": {
    "papermill": {
     "duration": 0.015204,
     "end_time": "2022-04-01T21:21:36.883507",
     "exception": false,
     "start_time": "2022-04-01T21:21:36.868303",
     "status": "completed"
    },
    "tags": []
   },
   "source": [
    "---\n",
    "\n",
    "\n",
    "\n",
    "\n",
    "*Have questions or comments? Visit the [course discussion forum](https://www.kaggle.com/learn/pandas/discussion) to chat with other learners.*"
   ]
  }
 ],
 "metadata": {
  "kernelspec": {
   "display_name": "Python 3",
   "language": "python",
   "name": "python3"
  },
  "language_info": {
   "codemirror_mode": {
    "name": "ipython",
    "version": 3
   },
   "file_extension": ".py",
   "mimetype": "text/x-python",
   "name": "python",
   "nbconvert_exporter": "python",
   "pygments_lexer": "ipython3",
   "version": "3.7.12"
  },
  "papermill": {
   "default_parameters": {},
   "duration": 12.840418,
   "end_time": "2022-04-01T21:21:37.508463",
   "environment_variables": {},
   "exception": null,
   "input_path": "__notebook__.ipynb",
   "output_path": "__notebook__.ipynb",
   "parameters": {},
   "start_time": "2022-04-01T21:21:24.668045",
   "version": "2.3.3"
  }
 },
 "nbformat": 4,
 "nbformat_minor": 5
}
