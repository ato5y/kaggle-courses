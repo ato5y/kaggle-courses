{
 "cells": [
  {
   "cell_type": "markdown",
   "id": "8a88f86b",
   "metadata": {
    "papermill": {
     "duration": 0.023609,
     "end_time": "2022-04-01T21:18:13.969306",
     "exception": false,
     "start_time": "2022-04-01T21:18:13.945697",
     "status": "completed"
    },
    "tags": []
   },
   "source": [
    "**This notebook is an exercise in the [Pandas](https://www.kaggle.com/learn/pandas) course.  You can reference the tutorial at [this link](https://www.kaggle.com/residentmario/grouping-and-sorting).**\n",
    "\n",
    "---\n"
   ]
  },
  {
   "cell_type": "markdown",
   "id": "e6ae9047",
   "metadata": {
    "papermill": {
     "duration": 0.021967,
     "end_time": "2022-04-01T21:18:14.013649",
     "exception": false,
     "start_time": "2022-04-01T21:18:13.991682",
     "status": "completed"
    },
    "tags": []
   },
   "source": [
    "# Introduction\n",
    "\n",
    "In these exercises we'll apply groupwise analysis to our dataset.\n",
    "\n",
    "Run the code cell below to load the data before running the exercises."
   ]
  },
  {
   "cell_type": "code",
   "execution_count": 1,
   "id": "8d69d263",
   "metadata": {
    "execution": {
     "iopub.execute_input": "2022-04-01T21:18:14.071283Z",
     "iopub.status.busy": "2022-04-01T21:18:14.070361Z",
     "iopub.status.idle": "2022-04-01T21:18:16.908121Z",
     "shell.execute_reply": "2022-04-01T21:18:16.907421Z",
     "shell.execute_reply.started": "2022-04-01T21:17:23.295605Z"
    },
    "papermill": {
     "duration": 2.872715,
     "end_time": "2022-04-01T21:18:16.908289",
     "exception": false,
     "start_time": "2022-04-01T21:18:14.035574",
     "status": "completed"
    },
    "tags": []
   },
   "outputs": [
    {
     "name": "stdout",
     "output_type": "stream",
     "text": [
      "Setup complete.\n"
     ]
    }
   ],
   "source": [
    "import pandas as pd\n",
    "\n",
    "reviews = pd.read_csv(\"../input/wine-reviews/winemag-data-130k-v2.csv\", index_col=0)\n",
    "#pd.set_option(\"display.max_rows\", 5)\n",
    "\n",
    "from learntools.core import binder; binder.bind(globals())\n",
    "from learntools.pandas.grouping_and_sorting import *\n",
    "print(\"Setup complete.\")"
   ]
  },
  {
   "cell_type": "markdown",
   "id": "bf0e6dc5",
   "metadata": {
    "papermill": {
     "duration": 0.021604,
     "end_time": "2022-04-01T21:18:16.953155",
     "exception": false,
     "start_time": "2022-04-01T21:18:16.931551",
     "status": "completed"
    },
    "tags": []
   },
   "source": [
    "# Exercises"
   ]
  },
  {
   "cell_type": "markdown",
   "id": "021bcd76",
   "metadata": {
    "papermill": {
     "duration": 0.021644,
     "end_time": "2022-04-01T21:18:16.996786",
     "exception": false,
     "start_time": "2022-04-01T21:18:16.975142",
     "status": "completed"
    },
    "tags": []
   },
   "source": [
    "## 1.\n",
    "Who are the most common wine reviewers in the dataset? Create a `Series` whose index is the `taster_twitter_handle` category from the dataset, and whose values count how many reviews each person wrote."
   ]
  },
  {
   "cell_type": "code",
   "execution_count": 2,
   "id": "ac003a7d",
   "metadata": {
    "execution": {
     "iopub.execute_input": "2022-04-01T21:18:17.061477Z",
     "iopub.status.busy": "2022-04-01T21:18:17.060758Z",
     "iopub.status.idle": "2022-04-01T21:18:17.084207Z",
     "shell.execute_reply": "2022-04-01T21:18:17.084679Z",
     "shell.execute_reply.started": "2022-04-01T21:17:26.276236Z"
    },
    "papermill": {
     "duration": 0.066019,
     "end_time": "2022-04-01T21:18:17.084858",
     "exception": false,
     "start_time": "2022-04-01T21:18:17.018839",
     "status": "completed"
    },
    "tags": []
   },
   "outputs": [
    {
     "data": {
      "application/javascript": [
       "parent.postMessage({\"jupyterEvent\": \"custom.exercise_interaction\", \"data\": {\"outcomeType\": 1, \"valueTowardsCompletion\": 0.16666666666666666, \"interactionType\": 1, \"questionType\": 1, \"questionId\": \"1_ReviewsWritten\", \"learnToolsVersion\": \"0.3.4\", \"failureMessage\": \"\", \"exceptionClass\": \"\", \"trace\": \"\"}}, \"*\")"
      ],
      "text/plain": [
       "<IPython.core.display.Javascript object>"
      ]
     },
     "metadata": {},
     "output_type": "display_data"
    },
    {
     "data": {
      "text/markdown": [
       "<span style=\"color:#33cc33\">Correct:</span> \n",
       "\n",
       "\n",
       "```python\n",
       "reviews_written = reviews.groupby('taster_twitter_handle').size()\n",
       "```\n",
       "or\n",
       "```python\n",
       "reviews_written = reviews.groupby('taster_twitter_handle').taster_twitter_handle.count()\n",
       "```\n"
      ],
      "text/plain": [
       "Correct: \n",
       "\n",
       "\n",
       "```python\n",
       "reviews_written = reviews.groupby('taster_twitter_handle').size()\n",
       "```\n",
       "or\n",
       "```python\n",
       "reviews_written = reviews.groupby('taster_twitter_handle').taster_twitter_handle.count()\n",
       "```"
      ]
     },
     "metadata": {},
     "output_type": "display_data"
    }
   ],
   "source": [
    "# Your code here2\n",
    "reviews_written = reviews.groupby('taster_twitter_handle').taster_twitter_handle.count()\n",
    "\n",
    "# Check your answer\n",
    "q1.check()"
   ]
  },
  {
   "cell_type": "code",
   "execution_count": 3,
   "id": "b710bf39",
   "metadata": {
    "execution": {
     "iopub.execute_input": "2022-04-01T21:18:17.137628Z",
     "iopub.status.busy": "2022-04-01T21:18:17.136996Z",
     "iopub.status.idle": "2022-04-01T21:18:17.155653Z",
     "shell.execute_reply": "2022-04-01T21:18:17.156258Z",
     "shell.execute_reply.started": "2022-04-01T21:17:26.324888Z"
    },
    "papermill": {
     "duration": 0.048004,
     "end_time": "2022-04-01T21:18:17.156427",
     "exception": false,
     "start_time": "2022-04-01T21:18:17.108423",
     "status": "completed"
    },
    "tags": []
   },
   "outputs": [
    {
     "data": {
      "text/html": [
       "<div>\n",
       "<style scoped>\n",
       "    .dataframe tbody tr th:only-of-type {\n",
       "        vertical-align: middle;\n",
       "    }\n",
       "\n",
       "    .dataframe tbody tr th {\n",
       "        vertical-align: top;\n",
       "    }\n",
       "\n",
       "    .dataframe thead th {\n",
       "        text-align: right;\n",
       "    }\n",
       "</style>\n",
       "<table border=\"1\" class=\"dataframe\">\n",
       "  <thead>\n",
       "    <tr style=\"text-align: right;\">\n",
       "      <th></th>\n",
       "      <th>country</th>\n",
       "      <th>description</th>\n",
       "      <th>designation</th>\n",
       "      <th>points</th>\n",
       "      <th>price</th>\n",
       "      <th>province</th>\n",
       "      <th>region_1</th>\n",
       "      <th>region_2</th>\n",
       "      <th>taster_name</th>\n",
       "      <th>taster_twitter_handle</th>\n",
       "      <th>title</th>\n",
       "      <th>variety</th>\n",
       "      <th>winery</th>\n",
       "    </tr>\n",
       "  </thead>\n",
       "  <tbody>\n",
       "    <tr>\n",
       "      <th>0</th>\n",
       "      <td>Italy</td>\n",
       "      <td>Aromas include tropical fruit, broom, brimston...</td>\n",
       "      <td>Vulkà Bianco</td>\n",
       "      <td>87</td>\n",
       "      <td>NaN</td>\n",
       "      <td>Sicily &amp; Sardinia</td>\n",
       "      <td>Etna</td>\n",
       "      <td>NaN</td>\n",
       "      <td>Kerin O’Keefe</td>\n",
       "      <td>@kerinokeefe</td>\n",
       "      <td>Nicosia 2013 Vulkà Bianco  (Etna)</td>\n",
       "      <td>White Blend</td>\n",
       "      <td>Nicosia</td>\n",
       "    </tr>\n",
       "    <tr>\n",
       "      <th>1</th>\n",
       "      <td>Portugal</td>\n",
       "      <td>This is ripe and fruity, a wine that is smooth...</td>\n",
       "      <td>Avidagos</td>\n",
       "      <td>87</td>\n",
       "      <td>15.0</td>\n",
       "      <td>Douro</td>\n",
       "      <td>NaN</td>\n",
       "      <td>NaN</td>\n",
       "      <td>Roger Voss</td>\n",
       "      <td>@vossroger</td>\n",
       "      <td>Quinta dos Avidagos 2011 Avidagos Red (Douro)</td>\n",
       "      <td>Portuguese Red</td>\n",
       "      <td>Quinta dos Avidagos</td>\n",
       "    </tr>\n",
       "    <tr>\n",
       "      <th>2</th>\n",
       "      <td>US</td>\n",
       "      <td>Tart and snappy, the flavors of lime flesh and...</td>\n",
       "      <td>NaN</td>\n",
       "      <td>87</td>\n",
       "      <td>14.0</td>\n",
       "      <td>Oregon</td>\n",
       "      <td>Willamette Valley</td>\n",
       "      <td>Willamette Valley</td>\n",
       "      <td>Paul Gregutt</td>\n",
       "      <td>@paulgwine</td>\n",
       "      <td>Rainstorm 2013 Pinot Gris (Willamette Valley)</td>\n",
       "      <td>Pinot Gris</td>\n",
       "      <td>Rainstorm</td>\n",
       "    </tr>\n",
       "    <tr>\n",
       "      <th>3</th>\n",
       "      <td>US</td>\n",
       "      <td>Pineapple rind, lemon pith and orange blossom ...</td>\n",
       "      <td>Reserve Late Harvest</td>\n",
       "      <td>87</td>\n",
       "      <td>13.0</td>\n",
       "      <td>Michigan</td>\n",
       "      <td>Lake Michigan Shore</td>\n",
       "      <td>NaN</td>\n",
       "      <td>Alexander Peartree</td>\n",
       "      <td>NaN</td>\n",
       "      <td>St. Julian 2013 Reserve Late Harvest Riesling ...</td>\n",
       "      <td>Riesling</td>\n",
       "      <td>St. Julian</td>\n",
       "    </tr>\n",
       "    <tr>\n",
       "      <th>4</th>\n",
       "      <td>US</td>\n",
       "      <td>Much like the regular bottling from 2012, this...</td>\n",
       "      <td>Vintner's Reserve Wild Child Block</td>\n",
       "      <td>87</td>\n",
       "      <td>65.0</td>\n",
       "      <td>Oregon</td>\n",
       "      <td>Willamette Valley</td>\n",
       "      <td>Willamette Valley</td>\n",
       "      <td>Paul Gregutt</td>\n",
       "      <td>@paulgwine</td>\n",
       "      <td>Sweet Cheeks 2012 Vintner's Reserve Wild Child...</td>\n",
       "      <td>Pinot Noir</td>\n",
       "      <td>Sweet Cheeks</td>\n",
       "    </tr>\n",
       "  </tbody>\n",
       "</table>\n",
       "</div>"
      ],
      "text/plain": [
       "    country                                        description  \\\n",
       "0     Italy  Aromas include tropical fruit, broom, brimston...   \n",
       "1  Portugal  This is ripe and fruity, a wine that is smooth...   \n",
       "2        US  Tart and snappy, the flavors of lime flesh and...   \n",
       "3        US  Pineapple rind, lemon pith and orange blossom ...   \n",
       "4        US  Much like the regular bottling from 2012, this...   \n",
       "\n",
       "                          designation  points  price           province  \\\n",
       "0                        Vulkà Bianco      87    NaN  Sicily & Sardinia   \n",
       "1                            Avidagos      87   15.0              Douro   \n",
       "2                                 NaN      87   14.0             Oregon   \n",
       "3                Reserve Late Harvest      87   13.0           Michigan   \n",
       "4  Vintner's Reserve Wild Child Block      87   65.0             Oregon   \n",
       "\n",
       "              region_1           region_2         taster_name  \\\n",
       "0                 Etna                NaN       Kerin O’Keefe   \n",
       "1                  NaN                NaN          Roger Voss   \n",
       "2    Willamette Valley  Willamette Valley        Paul Gregutt   \n",
       "3  Lake Michigan Shore                NaN  Alexander Peartree   \n",
       "4    Willamette Valley  Willamette Valley        Paul Gregutt   \n",
       "\n",
       "  taster_twitter_handle                                              title  \\\n",
       "0          @kerinokeefe                  Nicosia 2013 Vulkà Bianco  (Etna)   \n",
       "1            @vossroger      Quinta dos Avidagos 2011 Avidagos Red (Douro)   \n",
       "2           @paulgwine       Rainstorm 2013 Pinot Gris (Willamette Valley)   \n",
       "3                   NaN  St. Julian 2013 Reserve Late Harvest Riesling ...   \n",
       "4           @paulgwine   Sweet Cheeks 2012 Vintner's Reserve Wild Child...   \n",
       "\n",
       "          variety               winery  \n",
       "0     White Blend              Nicosia  \n",
       "1  Portuguese Red  Quinta dos Avidagos  \n",
       "2      Pinot Gris            Rainstorm  \n",
       "3        Riesling           St. Julian  \n",
       "4      Pinot Noir         Sweet Cheeks  "
      ]
     },
     "execution_count": 3,
     "metadata": {},
     "output_type": "execute_result"
    }
   ],
   "source": [
    "reviews.head(5)"
   ]
  },
  {
   "cell_type": "markdown",
   "id": "9a767188",
   "metadata": {
    "papermill": {
     "duration": 0.023989,
     "end_time": "2022-04-01T21:18:17.205215",
     "exception": false,
     "start_time": "2022-04-01T21:18:17.181226",
     "status": "completed"
    },
    "tags": []
   },
   "source": [
    "## 2.\n",
    "What is the best wine I can buy for a given amount of money? Create a `Series` whose index is wine prices and whose values is the maximum number of points a wine costing that much was given in a review. Sort the values by price, ascending (so that `4.0` dollars is at the top and `3300.0` dollars is at the bottom)."
   ]
  },
  {
   "cell_type": "code",
   "execution_count": 4,
   "id": "a01f2f4d",
   "metadata": {
    "execution": {
     "iopub.execute_input": "2022-04-01T21:18:17.256602Z",
     "iopub.status.busy": "2022-04-01T21:18:17.255949Z",
     "iopub.status.idle": "2022-04-01T21:18:17.266483Z",
     "shell.execute_reply": "2022-04-01T21:18:17.266993Z",
     "shell.execute_reply.started": "2022-04-01T21:17:26.351012Z"
    },
    "papermill": {
     "duration": 0.037937,
     "end_time": "2022-04-01T21:18:17.267160",
     "exception": false,
     "start_time": "2022-04-01T21:18:17.229223",
     "status": "completed"
    },
    "tags": []
   },
   "outputs": [
    {
     "data": {
      "application/javascript": [
       "parent.postMessage({\"jupyterEvent\": \"custom.exercise_interaction\", \"data\": {\"outcomeType\": 1, \"valueTowardsCompletion\": 0.16666666666666666, \"interactionType\": 1, \"questionType\": 1, \"questionId\": \"2_BestRatingPerPrice\", \"learnToolsVersion\": \"0.3.4\", \"failureMessage\": \"\", \"exceptionClass\": \"\", \"trace\": \"\"}}, \"*\")"
      ],
      "text/plain": [
       "<IPython.core.display.Javascript object>"
      ]
     },
     "metadata": {},
     "output_type": "display_data"
    },
    {
     "data": {
      "text/markdown": [
       "<span style=\"color:#33cc33\">Correct</span>"
      ],
      "text/plain": [
       "Correct"
      ]
     },
     "metadata": {},
     "output_type": "display_data"
    }
   ],
   "source": [
    "best_rating_per_price = reviews.groupby('price').points.max()\n",
    "\n",
    "# Check your answer\n",
    "q2.check()"
   ]
  },
  {
   "cell_type": "code",
   "execution_count": 5,
   "id": "3faf6d69",
   "metadata": {
    "execution": {
     "iopub.execute_input": "2022-04-01T21:18:17.322528Z",
     "iopub.status.busy": "2022-04-01T21:18:17.321863Z",
     "iopub.status.idle": "2022-04-01T21:18:17.324357Z",
     "shell.execute_reply": "2022-04-01T21:18:17.324839Z",
     "shell.execute_reply.started": "2022-04-01T21:17:26.366927Z"
    },
    "papermill": {
     "duration": 0.032548,
     "end_time": "2022-04-01T21:18:17.325017",
     "exception": false,
     "start_time": "2022-04-01T21:18:17.292469",
     "status": "completed"
    },
    "tags": []
   },
   "outputs": [],
   "source": [
    "#q2.hint()\n",
    "#q2.solution()"
   ]
  },
  {
   "cell_type": "markdown",
   "id": "ee17a9ec",
   "metadata": {
    "papermill": {
     "duration": 0.025108,
     "end_time": "2022-04-01T21:18:17.375772",
     "exception": false,
     "start_time": "2022-04-01T21:18:17.350664",
     "status": "completed"
    },
    "tags": []
   },
   "source": [
    "## 3.\n",
    "What are the minimum and maximum prices for each `variety` of wine? Create a `DataFrame` whose index is the `variety` category from the dataset and whose values are the `min` and `max` values thereof."
   ]
  },
  {
   "cell_type": "code",
   "execution_count": 6,
   "id": "4a8c72e7",
   "metadata": {
    "execution": {
     "iopub.execute_input": "2022-04-01T21:18:17.450065Z",
     "iopub.status.busy": "2022-04-01T21:18:17.449055Z",
     "iopub.status.idle": "2022-04-01T21:18:17.458960Z",
     "shell.execute_reply": "2022-04-01T21:18:17.459479Z",
     "shell.execute_reply.started": "2022-04-01T21:17:26.372218Z"
    },
    "papermill": {
     "duration": 0.058522,
     "end_time": "2022-04-01T21:18:17.459651",
     "exception": false,
     "start_time": "2022-04-01T21:18:17.401129",
     "status": "completed"
    },
    "tags": []
   },
   "outputs": [
    {
     "data": {
      "application/javascript": [
       "parent.postMessage({\"jupyterEvent\": \"custom.exercise_interaction\", \"data\": {\"outcomeType\": 1, \"valueTowardsCompletion\": 0.16666666666666666, \"interactionType\": 1, \"questionType\": 1, \"questionId\": \"3_PriceExtremes\", \"learnToolsVersion\": \"0.3.4\", \"failureMessage\": \"\", \"exceptionClass\": \"\", \"trace\": \"\"}}, \"*\")"
      ],
      "text/plain": [
       "<IPython.core.display.Javascript object>"
      ]
     },
     "metadata": {},
     "output_type": "display_data"
    },
    {
     "data": {
      "text/markdown": [
       "<span style=\"color:#33cc33\">Correct</span>"
      ],
      "text/plain": [
       "Correct"
      ]
     },
     "metadata": {},
     "output_type": "display_data"
    }
   ],
   "source": [
    "price_extremes = reviews.groupby('variety').price.agg([min, max])\n",
    "\n",
    "# Check your answer\n",
    "q3.check()"
   ]
  },
  {
   "cell_type": "code",
   "execution_count": 7,
   "id": "cbf706f3",
   "metadata": {
    "execution": {
     "iopub.execute_input": "2022-04-01T21:18:17.517779Z",
     "iopub.status.busy": "2022-04-01T21:18:17.516774Z",
     "iopub.status.idle": "2022-04-01T21:18:17.519071Z",
     "shell.execute_reply": "2022-04-01T21:18:17.519566Z",
     "shell.execute_reply.started": "2022-04-01T21:17:26.412215Z"
    },
    "papermill": {
     "duration": 0.033468,
     "end_time": "2022-04-01T21:18:17.519739",
     "exception": false,
     "start_time": "2022-04-01T21:18:17.486271",
     "status": "completed"
    },
    "tags": []
   },
   "outputs": [],
   "source": [
    "#q3.hint()\n",
    "#q3.solution()"
   ]
  },
  {
   "cell_type": "markdown",
   "id": "5c11ab18",
   "metadata": {
    "papermill": {
     "duration": 0.027252,
     "end_time": "2022-04-01T21:18:17.573736",
     "exception": false,
     "start_time": "2022-04-01T21:18:17.546484",
     "status": "completed"
    },
    "tags": []
   },
   "source": [
    "## 4.\n",
    "What are the most expensive wine varieties? Create a variable `sorted_varieties` containing a copy of the dataframe from the previous question where varieties are sorted in descending order based on minimum price, then on maximum price (to break ties)."
   ]
  },
  {
   "cell_type": "code",
   "execution_count": 8,
   "id": "988ed4af",
   "metadata": {
    "execution": {
     "iopub.execute_input": "2022-04-01T21:18:17.631028Z",
     "iopub.status.busy": "2022-04-01T21:18:17.630314Z",
     "iopub.status.idle": "2022-04-01T21:18:17.659699Z",
     "shell.execute_reply": "2022-04-01T21:18:17.660204Z",
     "shell.execute_reply.started": "2022-04-01T21:17:26.418275Z"
    },
    "papermill": {
     "duration": 0.060007,
     "end_time": "2022-04-01T21:18:17.660373",
     "exception": false,
     "start_time": "2022-04-01T21:18:17.600366",
     "status": "completed"
    },
    "tags": []
   },
   "outputs": [
    {
     "data": {
      "application/javascript": [
       "parent.postMessage({\"jupyterEvent\": \"custom.exercise_interaction\", \"data\": {\"outcomeType\": 1, \"valueTowardsCompletion\": 0.16666666666666666, \"interactionType\": 1, \"questionType\": 1, \"questionId\": \"4_SortedVarieties\", \"learnToolsVersion\": \"0.3.4\", \"failureMessage\": \"\", \"exceptionClass\": \"\", \"trace\": \"\"}}, \"*\")"
      ],
      "text/plain": [
       "<IPython.core.display.Javascript object>"
      ]
     },
     "metadata": {},
     "output_type": "display_data"
    },
    {
     "data": {
      "text/markdown": [
       "<span style=\"color:#33cc33\">Correct</span>"
      ],
      "text/plain": [
       "Correct"
      ]
     },
     "metadata": {},
     "output_type": "display_data"
    }
   ],
   "source": [
    "sorted_varieties = reviews.groupby('variety').price.agg([min, max]).sort_values(by=['min', 'max'], ascending = False)\n",
    "\n",
    "# Check your answer\n",
    "q4.check()"
   ]
  },
  {
   "cell_type": "code",
   "execution_count": 9,
   "id": "92c09914",
   "metadata": {
    "execution": {
     "iopub.execute_input": "2022-04-01T21:18:17.719953Z",
     "iopub.status.busy": "2022-04-01T21:18:17.719298Z",
     "iopub.status.idle": "2022-04-01T21:18:17.721873Z",
     "shell.execute_reply": "2022-04-01T21:18:17.722489Z",
     "shell.execute_reply.started": "2022-04-01T21:17:26.459197Z"
    },
    "papermill": {
     "duration": 0.033677,
     "end_time": "2022-04-01T21:18:17.722658",
     "exception": false,
     "start_time": "2022-04-01T21:18:17.688981",
     "status": "completed"
    },
    "tags": []
   },
   "outputs": [],
   "source": [
    "#q4.hint()\n",
    "#q4.solution()"
   ]
  },
  {
   "cell_type": "markdown",
   "id": "20ec1cf4",
   "metadata": {
    "papermill": {
     "duration": 0.027543,
     "end_time": "2022-04-01T21:18:17.778348",
     "exception": false,
     "start_time": "2022-04-01T21:18:17.750805",
     "status": "completed"
    },
    "tags": []
   },
   "source": [
    "## 5.\n",
    "Create a `Series` whose index is reviewers and whose values is the average review score given out by that reviewer. Hint: you will need the `taster_name` and `points` columns."
   ]
  },
  {
   "cell_type": "code",
   "execution_count": 10,
   "id": "77aea833",
   "metadata": {
    "execution": {
     "iopub.execute_input": "2022-04-01T21:18:17.837130Z",
     "iopub.status.busy": "2022-04-01T21:18:17.836484Z",
     "iopub.status.idle": "2022-04-01T21:18:17.860732Z",
     "shell.execute_reply": "2022-04-01T21:18:17.861341Z",
     "shell.execute_reply.started": "2022-04-01T21:17:26.466685Z"
    },
    "papermill": {
     "duration": 0.05529,
     "end_time": "2022-04-01T21:18:17.861507",
     "exception": false,
     "start_time": "2022-04-01T21:18:17.806217",
     "status": "completed"
    },
    "tags": []
   },
   "outputs": [
    {
     "data": {
      "application/javascript": [
       "parent.postMessage({\"jupyterEvent\": \"custom.exercise_interaction\", \"data\": {\"outcomeType\": 1, \"valueTowardsCompletion\": 0.16666666666666666, \"interactionType\": 1, \"questionType\": 1, \"questionId\": \"5_ReviewerMeanRatings\", \"learnToolsVersion\": \"0.3.4\", \"failureMessage\": \"\", \"exceptionClass\": \"\", \"trace\": \"\"}}, \"*\")"
      ],
      "text/plain": [
       "<IPython.core.display.Javascript object>"
      ]
     },
     "metadata": {},
     "output_type": "display_data"
    },
    {
     "data": {
      "text/markdown": [
       "<span style=\"color:#33cc33\">Correct</span>"
      ],
      "text/plain": [
       "Correct"
      ]
     },
     "metadata": {},
     "output_type": "display_data"
    }
   ],
   "source": [
    "reviewer_mean_ratings = reviews.groupby('taster_name').points.mean()\n",
    "\n",
    "# Check your answer\n",
    "q5.check()"
   ]
  },
  {
   "cell_type": "code",
   "execution_count": 11,
   "id": "1b9ce42b",
   "metadata": {
    "execution": {
     "iopub.execute_input": "2022-04-01T21:18:17.923810Z",
     "iopub.status.busy": "2022-04-01T21:18:17.923226Z",
     "iopub.status.idle": "2022-04-01T21:18:17.925750Z",
     "shell.execute_reply": "2022-04-01T21:18:17.926350Z",
     "shell.execute_reply.started": "2022-04-01T21:17:26.498490Z"
    },
    "papermill": {
     "duration": 0.035207,
     "end_time": "2022-04-01T21:18:17.926516",
     "exception": false,
     "start_time": "2022-04-01T21:18:17.891309",
     "status": "completed"
    },
    "tags": []
   },
   "outputs": [],
   "source": [
    "#q5.hint()\n",
    "#q5.solution()"
   ]
  },
  {
   "cell_type": "markdown",
   "id": "3b60d715",
   "metadata": {
    "papermill": {
     "duration": 0.028785,
     "end_time": "2022-04-01T21:18:17.984585",
     "exception": false,
     "start_time": "2022-04-01T21:18:17.955800",
     "status": "completed"
    },
    "tags": []
   },
   "source": [
    "Are there significant differences in the average scores assigned by the various reviewers? Run the cell below to use the `describe()` method to see a summary of the range of values."
   ]
  },
  {
   "cell_type": "code",
   "execution_count": 12,
   "id": "23594763",
   "metadata": {
    "execution": {
     "iopub.execute_input": "2022-04-01T21:18:18.046841Z",
     "iopub.status.busy": "2022-04-01T21:18:18.046187Z",
     "iopub.status.idle": "2022-04-01T21:18:18.055493Z",
     "shell.execute_reply": "2022-04-01T21:18:18.056097Z",
     "shell.execute_reply.started": "2022-04-01T21:17:26.504323Z"
    },
    "papermill": {
     "duration": 0.041803,
     "end_time": "2022-04-01T21:18:18.056266",
     "exception": false,
     "start_time": "2022-04-01T21:18:18.014463",
     "status": "completed"
    },
    "tags": []
   },
   "outputs": [
    {
     "data": {
      "text/plain": [
       "count    19.000000\n",
       "mean     88.233026\n",
       "std       1.243610\n",
       "min      85.855422\n",
       "25%      87.323501\n",
       "50%      88.536235\n",
       "75%      88.975256\n",
       "max      90.562551\n",
       "Name: points, dtype: float64"
      ]
     },
     "execution_count": 12,
     "metadata": {},
     "output_type": "execute_result"
    }
   ],
   "source": [
    "reviewer_mean_ratings.describe()"
   ]
  },
  {
   "cell_type": "markdown",
   "id": "040d6283",
   "metadata": {
    "papermill": {
     "duration": 0.029356,
     "end_time": "2022-04-01T21:18:18.115157",
     "exception": false,
     "start_time": "2022-04-01T21:18:18.085801",
     "status": "completed"
    },
    "tags": []
   },
   "source": [
    "## 6.\n",
    "What combination of countries and varieties are most common? Create a `Series` whose index is a `MultiIndex`of `{country, variety}` pairs. For example, a pinot noir produced in the US should map to `{\"US\", \"Pinot Noir\"}`. Sort the values in the `Series` in descending order based on wine count."
   ]
  },
  {
   "cell_type": "code",
   "execution_count": 13,
   "id": "20b34460",
   "metadata": {
    "execution": {
     "iopub.execute_input": "2022-04-01T21:18:18.177660Z",
     "iopub.status.busy": "2022-04-01T21:18:18.177026Z",
     "iopub.status.idle": "2022-04-01T21:18:18.236305Z",
     "shell.execute_reply": "2022-04-01T21:18:18.236791Z",
     "shell.execute_reply.started": "2022-04-01T21:17:26.525411Z"
    },
    "papermill": {
     "duration": 0.092154,
     "end_time": "2022-04-01T21:18:18.236982",
     "exception": false,
     "start_time": "2022-04-01T21:18:18.144828",
     "status": "completed"
    },
    "tags": []
   },
   "outputs": [
    {
     "data": {
      "application/javascript": [
       "parent.postMessage({\"jupyterEvent\": \"custom.exercise_interaction\", \"data\": {\"outcomeType\": 1, \"valueTowardsCompletion\": 0.16666666666666666, \"interactionType\": 1, \"questionType\": 1, \"questionId\": \"6_GroupbyCountryVariety\", \"learnToolsVersion\": \"0.3.4\", \"failureMessage\": \"\", \"exceptionClass\": \"\", \"trace\": \"\"}}, \"*\")"
      ],
      "text/plain": [
       "<IPython.core.display.Javascript object>"
      ]
     },
     "metadata": {},
     "output_type": "display_data"
    },
    {
     "data": {
      "text/markdown": [
       "<span style=\"color:#33cc33\">Correct</span>"
      ],
      "text/plain": [
       "Correct"
      ]
     },
     "metadata": {},
     "output_type": "display_data"
    }
   ],
   "source": [
    "country_variety_counts = reviews.groupby(['country', 'variety']).variety.count().sort_values(ascending = False)\n",
    "\n",
    "# Check your answer\n",
    "q6.check()"
   ]
  },
  {
   "cell_type": "code",
   "execution_count": 14,
   "id": "3a106b0e",
   "metadata": {
    "execution": {
     "iopub.execute_input": "2022-04-01T21:18:18.302009Z",
     "iopub.status.busy": "2022-04-01T21:18:18.301369Z",
     "iopub.status.idle": "2022-04-01T21:18:18.304431Z",
     "shell.execute_reply": "2022-04-01T21:18:18.304965Z",
     "shell.execute_reply.started": "2022-04-01T21:17:26.591125Z"
    },
    "papermill": {
     "duration": 0.03711,
     "end_time": "2022-04-01T21:18:18.305131",
     "exception": false,
     "start_time": "2022-04-01T21:18:18.268021",
     "status": "completed"
    },
    "tags": []
   },
   "outputs": [],
   "source": [
    "#q6.hint()\n",
    "#q6.solution()"
   ]
  },
  {
   "cell_type": "markdown",
   "id": "4deacd16",
   "metadata": {
    "papermill": {
     "duration": 0.030809,
     "end_time": "2022-04-01T21:18:18.367636",
     "exception": false,
     "start_time": "2022-04-01T21:18:18.336827",
     "status": "completed"
    },
    "tags": []
   },
   "source": [
    "# Keep going\n",
    "\n",
    "Move on to the [**data types and missing data**](https://www.kaggle.com/residentmario/data-types-and-missing-values)."
   ]
  },
  {
   "cell_type": "markdown",
   "id": "6d58e3e7",
   "metadata": {
    "papermill": {
     "duration": 0.030524,
     "end_time": "2022-04-01T21:18:18.429056",
     "exception": false,
     "start_time": "2022-04-01T21:18:18.398532",
     "status": "completed"
    },
    "tags": []
   },
   "source": [
    "---\n",
    "\n",
    "\n",
    "\n",
    "\n",
    "*Have questions or comments? Visit the [course discussion forum](https://www.kaggle.com/learn/pandas/discussion) to chat with other learners.*"
   ]
  }
 ],
 "metadata": {
  "kernelspec": {
   "display_name": "Python 3",
   "language": "python",
   "name": "python3"
  },
  "language_info": {
   "codemirror_mode": {
    "name": "ipython",
    "version": 3
   },
   "file_extension": ".py",
   "mimetype": "text/x-python",
   "name": "python",
   "nbconvert_exporter": "python",
   "pygments_lexer": "ipython3",
   "version": "3.7.12"
  },
  "papermill": {
   "default_parameters": {},
   "duration": 15.165655,
   "end_time": "2022-04-01T21:18:19.069849",
   "environment_variables": {},
   "exception": null,
   "input_path": "__notebook__.ipynb",
   "output_path": "__notebook__.ipynb",
   "parameters": {},
   "start_time": "2022-04-01T21:18:03.904194",
   "version": "2.3.3"
  }
 },
 "nbformat": 4,
 "nbformat_minor": 5
}
